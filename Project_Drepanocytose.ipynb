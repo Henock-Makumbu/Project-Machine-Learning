{
 "cells": [
  {
   "cell_type": "markdown",
   "metadata": {},
   "source": [
    "Etude de sondage et prediction de niveau de connaissance sur la drépanocytose. Cas des Etudiants de l'Université de KInshasa\n",
    "\n",
    "Dans ce projet, Nous avons développé un modèle basé sur la forêt aléatoire par la combinaison de plusieurs arbres de décision capable de prédire le niveau de connaissance d’un individu (étudiant pour le cas cible de notre travail)  en matière de la drépanocytose. Nous avons aussi exploré les données de cette étude existante pour en  illustrer la description des résultats des corrélations paramétriques.\n",
    "\n",
    "Notre modèle est un outil qui optimise dans le cadre de la rapidité, la fiabilité, et la performance de l’automatisme de l’étude suggérant des interventions préventives précoces, qui visent non seulement à une transmission des connaissances et des pratiques vis-à-vis de la drépanocytose afin de réduire son impact au niveau des familles impliquées, mais surtout de mettre en place un programme actif de lutte contre la drépanocytose avec des actions synergiques à deux volets, l’éducation et intervention médicale, qui peuvent garantir la réussite du dit programme.\n",
    "\n",
    "La prévention de la drépanocytose implique ici une bonne connaissance des causes de la maladie et de ses modes de transmission. C’est pourquoi les résultats de notre étude sont importants à prendre en compte  pour la confection d’un programme d’information, d’éducation et de la communication en matière de lutte contre la drépanocytose.\n",
    "\n",
    "Par ailleurs, le travail a également suscité à travers le modèle développé grâce à sa simulation automatique l’intérêt du dépistage de la drépanocytose pour garantir la prévoyance de la maladie. Et aussi un élément capital de valeur du travail s’est basé sur l’orientation des jeunes sur le choix du conjoint en leur expliquant de complication et risque liées à l’absence de réalisation des examens prénuptiaux dans le programme d’information  de lutte contre la drépanocytose évoqué ci-haut."\n",
    "\n",
    "Le Projet s'est exécuté sur un échantillon des étudiants représentatif de chaque faculté de l'Université de KInshasa année acadéique 2016-2017."
   ]
  },
  {
   "cell_type": "code",
   "execution_count": null,
   "metadata": {},
   "outputs": [],
   "source": [
    "import pandas as pd\n",
    "import numpy as np\n",
    "import matplotlib.pyplot as plt\n",
    "import seaborn as sns\n",
    "from sklearn.model_selection import train_test_split\n",
    "from sklearn.ensemble import BaggingClassifier, RandomForestClassifier\n",
    "from sklearn.metrics import confusion_matrix\n",
    "##"
   ]
  },
  {
   "cell_type": "markdown",
   "metadata": {},
   "source": [
    "# IMPORTATION DES DONNEES"
   ]
  },
  {
   "cell_type": "code",
   "execution_count": 5,
   "metadata": {},
   "outputs": [
    {
     "data": {
      "text/html": [
       "<div>\n",
       "<style scoped>\n",
       "    .dataframe tbody tr th:only-of-type {\n",
       "        vertical-align: middle;\n",
       "    }\n",
       "\n",
       "    .dataframe tbody tr th {\n",
       "        vertical-align: top;\n",
       "    }\n",
       "\n",
       "    .dataframe thead th {\n",
       "        text-align: right;\n",
       "    }\n",
       "</style>\n",
       "<table border=\"1\" class=\"dataframe\">\n",
       "  <thead>\n",
       "    <tr style=\"text-align: right;\">\n",
       "      <th></th>\n",
       "      <th>SEXE</th>\n",
       "      <th>NIVEAUDETUDE</th>\n",
       "      <th>FACULTE</th>\n",
       "      <th>ETATCIVIL</th>\n",
       "      <th>HEREDITE</th>\n",
       "      <th>TRANSMISSION</th>\n",
       "      <th>PREVENTION</th>\n",
       "      <th>DREPANOCYTOSE</th>\n",
       "      <th>ROLES</th>\n",
       "      <th>ELECTROPHORESE</th>\n",
       "      <th>REACTION</th>\n",
       "      <th>MOMENTIDEAL</th>\n",
       "      <th>NIVEAU_CONNAISSANCE</th>\n",
       "    </tr>\n",
       "  </thead>\n",
       "  <tbody>\n",
       "    <tr>\n",
       "      <th>0</th>\n",
       "      <td>M</td>\n",
       "      <td>G3</td>\n",
       "      <td>DROIT</td>\n",
       "      <td>FIANCE</td>\n",
       "      <td>NON</td>\n",
       "      <td>OUI</td>\n",
       "      <td>OUI</td>\n",
       "      <td>NON</td>\n",
       "      <td>2</td>\n",
       "      <td>NON</td>\n",
       "      <td>1</td>\n",
       "      <td>1</td>\n",
       "      <td>2</td>\n",
       "    </tr>\n",
       "    <tr>\n",
       "      <th>1</th>\n",
       "      <td>M</td>\n",
       "      <td>G3</td>\n",
       "      <td>DROIT</td>\n",
       "      <td>NE</td>\n",
       "      <td>NON</td>\n",
       "      <td>OUI</td>\n",
       "      <td>OUI</td>\n",
       "      <td>NON</td>\n",
       "      <td>4</td>\n",
       "      <td>NON</td>\n",
       "      <td>1</td>\n",
       "      <td>1</td>\n",
       "      <td>2</td>\n",
       "    </tr>\n",
       "    <tr>\n",
       "      <th>2</th>\n",
       "      <td>M</td>\n",
       "      <td>G3</td>\n",
       "      <td>ECO</td>\n",
       "      <td>NE</td>\n",
       "      <td>NON</td>\n",
       "      <td>NON</td>\n",
       "      <td>OUI</td>\n",
       "      <td>NON</td>\n",
       "      <td>5</td>\n",
       "      <td>NON</td>\n",
       "      <td>2</td>\n",
       "      <td>1</td>\n",
       "      <td>2</td>\n",
       "    </tr>\n",
       "    <tr>\n",
       "      <th>3</th>\n",
       "      <td>F</td>\n",
       "      <td>G1</td>\n",
       "      <td>DROIT</td>\n",
       "      <td>NE</td>\n",
       "      <td>NON</td>\n",
       "      <td>OUI</td>\n",
       "      <td>OUI</td>\n",
       "      <td>NON</td>\n",
       "      <td>5</td>\n",
       "      <td>NON</td>\n",
       "      <td>3</td>\n",
       "      <td>2</td>\n",
       "      <td>2</td>\n",
       "    </tr>\n",
       "    <tr>\n",
       "      <th>4</th>\n",
       "      <td>F</td>\n",
       "      <td>G1</td>\n",
       "      <td>ECO</td>\n",
       "      <td>NE</td>\n",
       "      <td>OUI</td>\n",
       "      <td>NON</td>\n",
       "      <td>OUI</td>\n",
       "      <td>NON</td>\n",
       "      <td>2</td>\n",
       "      <td>NON</td>\n",
       "      <td>1</td>\n",
       "      <td>3</td>\n",
       "      <td>2</td>\n",
       "    </tr>\n",
       "    <tr>\n",
       "      <th>...</th>\n",
       "      <td>...</td>\n",
       "      <td>...</td>\n",
       "      <td>...</td>\n",
       "      <td>...</td>\n",
       "      <td>...</td>\n",
       "      <td>...</td>\n",
       "      <td>...</td>\n",
       "      <td>...</td>\n",
       "      <td>...</td>\n",
       "      <td>...</td>\n",
       "      <td>...</td>\n",
       "      <td>...</td>\n",
       "      <td>...</td>\n",
       "    </tr>\n",
       "    <tr>\n",
       "      <th>180</th>\n",
       "      <td>NaN</td>\n",
       "      <td>L1</td>\n",
       "      <td>PSY</td>\n",
       "      <td>ENG</td>\n",
       "      <td>NON</td>\n",
       "      <td>OUI</td>\n",
       "      <td>OUI</td>\n",
       "      <td>OUI</td>\n",
       "      <td>4</td>\n",
       "      <td>NON</td>\n",
       "      <td>0</td>\n",
       "      <td>3</td>\n",
       "      <td>3</td>\n",
       "    </tr>\n",
       "    <tr>\n",
       "      <th>181</th>\n",
       "      <td>NaN</td>\n",
       "      <td>L1</td>\n",
       "      <td>PSY</td>\n",
       "      <td>ENG</td>\n",
       "      <td>OUI</td>\n",
       "      <td>NON</td>\n",
       "      <td>NON</td>\n",
       "      <td>NON</td>\n",
       "      <td>3</td>\n",
       "      <td>NON</td>\n",
       "      <td>1</td>\n",
       "      <td>1</td>\n",
       "      <td>1</td>\n",
       "    </tr>\n",
       "    <tr>\n",
       "      <th>182</th>\n",
       "      <td>NaN</td>\n",
       "      <td>L1</td>\n",
       "      <td>PG</td>\n",
       "      <td>ENG</td>\n",
       "      <td>NON</td>\n",
       "      <td>OUI</td>\n",
       "      <td>OUI</td>\n",
       "      <td>OUI</td>\n",
       "      <td>5</td>\n",
       "      <td>NON</td>\n",
       "      <td>0</td>\n",
       "      <td>2</td>\n",
       "      <td>3</td>\n",
       "    </tr>\n",
       "    <tr>\n",
       "      <th>183</th>\n",
       "      <td>NaN</td>\n",
       "      <td>L1</td>\n",
       "      <td>PG</td>\n",
       "      <td>FIANCE</td>\n",
       "      <td>OUI</td>\n",
       "      <td>OUI</td>\n",
       "      <td>OUI</td>\n",
       "      <td>OUI</td>\n",
       "      <td>2</td>\n",
       "      <td>OUI</td>\n",
       "      <td>3</td>\n",
       "      <td>3</td>\n",
       "      <td>5</td>\n",
       "    </tr>\n",
       "    <tr>\n",
       "      <th>184</th>\n",
       "      <td>NaN</td>\n",
       "      <td>L1</td>\n",
       "      <td>MED VET</td>\n",
       "      <td>FIANCE</td>\n",
       "      <td>OUI</td>\n",
       "      <td>NON</td>\n",
       "      <td>NON</td>\n",
       "      <td>NON</td>\n",
       "      <td>1</td>\n",
       "      <td>OUI</td>\n",
       "      <td>1</td>\n",
       "      <td>2</td>\n",
       "      <td>2</td>\n",
       "    </tr>\n",
       "  </tbody>\n",
       "</table>\n",
       "<p>185 rows × 13 columns</p>\n",
       "</div>"
      ],
      "text/plain": [
       "    SEXE NIVEAUDETUDE  FACULTE ETATCIVIL HEREDITE TRANSMISSION PREVENTION  \\\n",
       "0      M           G3    DROIT    FIANCE      NON          OUI        OUI   \n",
       "1      M           G3    DROIT        NE      NON          OUI        OUI   \n",
       "2      M           G3      ECO        NE      NON          NON        OUI   \n",
       "3      F           G1    DROIT        NE      NON          OUI        OUI   \n",
       "4      F           G1      ECO        NE      OUI          NON        OUI   \n",
       "..   ...          ...      ...       ...      ...          ...        ...   \n",
       "180  NaN           L1      PSY       ENG      NON          OUI        OUI   \n",
       "181  NaN           L1      PSY       ENG      OUI          NON        NON   \n",
       "182  NaN           L1       PG       ENG      NON          OUI        OUI   \n",
       "183  NaN           L1       PG    FIANCE      OUI          OUI        OUI   \n",
       "184  NaN           L1  MED VET    FIANCE      OUI          NON        NON   \n",
       "\n",
       "    DREPANOCYTOSE  ROLES ELECTROPHORESE  REACTION  MOMENTIDEAL  \\\n",
       "0             NON      2            NON         1            1   \n",
       "1             NON      4            NON         1            1   \n",
       "2             NON      5            NON         2            1   \n",
       "3             NON      5            NON         3            2   \n",
       "4             NON      2            NON         1            3   \n",
       "..            ...    ...            ...       ...          ...   \n",
       "180           OUI      4            NON         0            3   \n",
       "181           NON      3            NON         1            1   \n",
       "182           OUI      5            NON         0            2   \n",
       "183           OUI      2            OUI         3            3   \n",
       "184           NON      1            OUI         1            2   \n",
       "\n",
       "     NIVEAU_CONNAISSANCE  \n",
       "0                      2  \n",
       "1                      2  \n",
       "2                      2  \n",
       "3                      2  \n",
       "4                      2  \n",
       "..                   ...  \n",
       "180                    3  \n",
       "181                    1  \n",
       "182                    3  \n",
       "183                    5  \n",
       "184                    2  \n",
       "\n",
       "[185 rows x 13 columns]"
      ]
     },
     "execution_count": 5,
     "metadata": {},
     "output_type": "execute_result"
    }
   ],
   "source": [
    "data= pd.read_excel('drepanocytose.xlsx')\n",
    "df = data.copy()\n",
    "#pd.set_option('displInspiration Pour explorer ce type de modèles et en savoir plus sur le sujet.ay.max_row', 13)\n",
    "#pd.set_option('display.max_columns', 13)\n",
    "df"
   ]
  },
  {
   "cell_type": "markdown",
   "metadata": {},
   "source": [
    "# EXPLORATION DES DONNEES"
   ]
  },
  {
   "cell_type": "markdown",
   "metadata": {},
   "source": [
    "## Analyse de forme"
   ]
  },
  {
   "cell_type": "code",
   "execution_count": 6,
   "metadata": {},
   "outputs": [
    {
     "data": {
      "text/plain": [
       "(185, 13)"
      ]
     },
     "execution_count": 6,
     "metadata": {},
     "output_type": "execute_result"
    }
   ],
   "source": [
    "df.shape"
   ]
  },
  {
   "cell_type": "code",
   "execution_count": 7,
   "metadata": {},
   "outputs": [
    {
     "data": {
      "text/plain": [
       "SEXE                   object\n",
       "NIVEAUDETUDE           object\n",
       "FACULTE                object\n",
       "ETATCIVIL              object\n",
       "HEREDITE               object\n",
       "TRANSMISSION           object\n",
       "PREVENTION             object\n",
       "DREPANOCYTOSE          object\n",
       "ROLES                   int64\n",
       "ELECTROPHORESE         object\n",
       "REACTION                int64\n",
       "MOMENTIDEAL             int64\n",
       "NIVEAU_CONNAISSANCE     int64\n",
       "dtype: object"
      ]
     },
     "execution_count": 7,
     "metadata": {},
     "output_type": "execute_result"
    }
   ],
   "source": [
    "df.dtypes"
   ]
  },
  {
   "cell_type": "code",
   "execution_count": 8,
   "metadata": {},
   "outputs": [
    {
     "data": {
      "text/plain": [
       "object    9\n",
       "int64     4\n",
       "dtype: int64"
      ]
     },
     "execution_count": 8,
     "metadata": {},
     "output_type": "execute_result"
    }
   ],
   "source": [
    "df.dtypes.value_counts()"
   ]
  },
  {
   "cell_type": "code",
   "execution_count": 9,
   "metadata": {},
   "outputs": [
    {
     "name": "stdout",
     "output_type": "stream",
     "text": [
      "SEXE----------------------------------------------['M' 'F' nan]\n",
      "NIVEAUDETUDE--------------------------------------['G3' 'G1' 'G2' 'L1' 'L2' 'PI' 'TI' 'T2' 'T1']\n",
      "FACULTE-------------------------------------------['DROIT' 'ECO' 'PSY' 'SCIE' 'AGRO' 'LETTRE' 'POLY' 'SSPA' 'PG' 'MED VET'\n",
      " 'Pharm']\n",
      "ETATCIVIL-----------------------------------------['FIANCE' 'NE' 'CE' 'ENG']\n",
      "HEREDITE------------------------------------------['NON' 'OUI']\n",
      "TRANSMISSION--------------------------------------['OUI' 'NON']\n",
      "PREVENTION----------------------------------------['OUI' 'NON']\n",
      "DREPANOCYTOSE-------------------------------------['NON' 'OUI']\n",
      "ELECTROPHORESE------------------------------------['NON' 'OUI']\n"
     ]
    }
   ],
   "source": [
    "for col in df.select_dtypes('object'):\n",
    "    print(f'{col:-<50}{df[col].unique()}')"
   ]
  },
  {
   "cell_type": "markdown",
   "metadata": {},
   "source": [
    "## Analyse de fond"
   ]
  },
  {
   "cell_type": "code",
   "execution_count": 10,
   "metadata": {},
   "outputs": [
    {
     "data": {
      "text/plain": [
       "1    68\n",
       "2    59\n",
       "3    23\n",
       "4    22\n",
       "5    13\n",
       "Name: NIVEAU_CONNAISSANCE, dtype: int64"
      ]
     },
     "execution_count": 10,
     "metadata": {},
     "output_type": "execute_result"
    }
   ],
   "source": [
    "df['NIVEAU_CONNAISSANCE'].value_counts()"
   ]
  },
  {
   "cell_type": "code",
   "execution_count": 11,
   "metadata": {},
   "outputs": [
    {
     "data": {
      "text/plain": [
       "1    0.367568\n",
       "2    0.318919\n",
       "3    0.124324\n",
       "4    0.118919\n",
       "5    0.070270\n",
       "Name: NIVEAU_CONNAISSANCE, dtype: float64"
      ]
     },
     "execution_count": 11,
     "metadata": {},
     "output_type": "execute_result"
    }
   ],
   "source": [
    "df['NIVEAU_CONNAISSANCE'].value_counts(normalize=True)"
   ]
  },
  {
   "cell_type": "code",
   "execution_count": 10,
   "metadata": {},
   "outputs": [
    {
     "data": {
      "image/png": "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\n",
      "text/plain": [
       "<Figure size 432x288 with 1 Axes>"
      ]
     },
     "metadata": {},
     "output_type": "display_data"
    },
    {
     "data": {
      "image/png": "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\n",
      "text/plain": [
       "<Figure size 432x288 with 1 Axes>"
      ]
     },
     "metadata": {},
     "output_type": "display_data"
    },
    {
     "data": {
      "image/png": "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\n",
      "text/plain": [
       "<Figure size 432x288 with 1 Axes>"
      ]
     },
     "metadata": {},
     "output_type": "display_data"
    },
    {
     "data": {
      "image/png": "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\n",
      "text/plain": [
       "<Figure size 432x288 with 1 Axes>"
      ]
     },
     "metadata": {},
     "output_type": "display_data"
    },
    {
     "data": {
      "image/png": "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\n",
      "text/plain": [
       "<Figure size 432x288 with 1 Axes>"
      ]
     },
     "metadata": {},
     "output_type": "display_data"
    },
    {
     "data": {
      "image/png": "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\n",
      "text/plain": [
       "<Figure size 432x288 with 1 Axes>"
      ]
     },
     "metadata": {},
     "output_type": "display_data"
    },
    {
     "data": {
      "image/png": "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\n",
      "text/plain": [
       "<Figure size 432x288 with 1 Axes>"
      ]
     },
     "metadata": {},
     "output_type": "display_data"
    },
    {
     "data": {
      "image/png": "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\n",
      "text/plain": [
       "<Figure size 432x288 with 1 Axes>"
      ]
     },
     "metadata": {},
     "output_type": "display_data"
    },
    {
     "data": {
      "image/png": "iVBORw0KGgoAAAANSUhEUgAAAPUAAADnCAYAAADGrxD1AAAAOXRFWHRTb2Z0d2FyZQBNYXRwbG90bGliIHZlcnNpb24zLjUuMCwgaHR0cHM6Ly9tYXRwbG90bGliLm9yZy8/fFQqAAAACXBIWXMAAAsTAAALEwEAmpwYAAAYXElEQVR4nO3de7xc473H8c9v9i2Xk+wmVKMJFmkVIULjlkRTetpyxqnSQ91O41UHLUq1wUpdutTBJO5a2ipFqynag6aWS9VGIgiJEERIMYhbpZiE3LOf88eazWSy916z9561njVrfu/Xa78yM3vvrG/78s26Pet5xBiDUio9MrYDKKWqS0utVMpoqZVKGS21UimjpVYqZbTUSqWMllqplNFSK5UyWmqlUkZLrVTKaKmVShkttVIpo6VWKmW01EqljJZaqZTRUiuVMlpqpVJGS61UymiplUoZLbVSKaOl7iERMSJyScn7ySLilbw/TkQWFb8eF5EJJd97UETmlrwfKyIPxpVd1Qctdc+tBg4WkU3LvyEiBwDHAxOMMdsB3wOmi8iwkh/bTET2jyeqqkda6p5bB1wDnNrJ984ATjPGLAUwxjwJ3AicWPIzFwFnRR1S1S8tde9cBRwpIq1ln48C5pV9Nrf4eYdHgdUisk+E+VQd01L3gjFmGfA74OQKflyA8hUT/hfdW6uIaKl773LgGGBgyWcLgS+W/dyuxc8/ZoxpA/oBe0aYT9UpLXUvGWPeA24lKHaHacBUEdkEQETGAEcDV3fyV5wPnB5tSlWPGm0HqHGXACd1vDHGzBCR4cAjImKA5cBRxpi3yn/RGHOXiLwbVTDH9YcAI4DhxT9Lvz4LNAHrK/haDiwBXi/5Mw8syeeyuhBbAokukFfbiuUdB4wHxgJbERR5YHe/VwUrgMXAC8Wv54CZ+Vx2o3/AVLy01DXGcf1tCAo8ofjnDgQX45JiEdBW/Hogn8u+ZzlP3dFSJ5zj+lsD3+CTEm9uN1GPGGABn5T8oXwuu9xupPTTUieQ4/ojgEOBw4DdLMeppnXA48Dvgen5XHaZ5TyppKVOCMf1BwHfBiYR7JGTdEgdhRXAn4Fr87nsLNth0kRLbZnj+uMJbosdSvQXt5LqBeA64MZ8LvtP22FqnZbaAsf1M8DhwE8ILnSpwFrgTuBa4J58LttuOU9N0lLHqFjmQ4FzgO0tx0m6xQRDaf+k98N7RksdA8f1BTgE+Cm6Z+6pucCUfC77d9tBaoWWOkLFMh9MUOadLMepdX8H3HwuW/4UnCqjpY6I4/oHAucCO9vOkiKG4Ir5mflcdrHtMEmlpa6y4j3mawCd3SQ66wiulp+rw1I3pqWuIsf1vwtcCpRPnqCisQz4UT6Xvc52kCTRUleB7p2tuxs4Np/LvmE7SBLo89R9VNw7P4sW2qb9gWcd159kO0gS6J66l3TvnFi3Asflc9mC7SC2aKl7wXH97wBXoufOSfUKcHg+l51jO4gNWuoeKI4Imwb82HYWFWodwYi0afU2Ik1LXSHH9QcANwEH2c6ieuRmYFI+l11jO0hctNQVcFx/c2AGwXRBqva0AQfVy/PbWuoQjuvvBPjAFrazqD55Ctg/n8u+bTtI1PSWVjcc198PmI0WOg3GAI86rr+t7SBR01J3wXH9Ewie7R1kO4uqGgeY7bj+HraDRElL3QnH9acSrJfVYDuLqrpNgTbH9bO2g0RFS13Gcf3z0JUz0m4AcEdxNGDq6IWyEo7ru8CFtnOo2BjgiHwue7PtINWkpS5yXP8HBKPEVH1ZDXwtn8vOtB2kWrTUgOP6/02wOHzap+VVnXsfGJ/PZZ+3HaQa6r7Ujuv/O3AXwYJxqn7lgb3ScB+7rkvtuP5oYBYw2HYWlQjzgIn5XPYj20H6om6vfjuuvwXBHloLrTp8EbjFcf2avpVZl6V2XL8Z+AvBkq9KlcoCV9sO0Rd1WWogB+xiO4RKrOMc1z/Ddojeqrtzasf1v04wp5Ve6VbdWU9wRbzmJlqoq1I7rr8ZwXrJn7GdRdWEF4Ex+Vx2pe0gPVFvh9/Xo4VWldsWmGo7RE/VTakd1z8Z+A/bOVTNOclx/X1th+iJujj8Lk508ATQYjuLqkmvATvVyswpqd9TO67fD/gjWmjVe1sCV9gOUanUl5pg9s9RtkOomne04/rfsB2iEqk+/HZcfxTwNDrZgaqOd4Ad87nsUttBupP2PfU0tNCqej5DDRyGp3ZPXbxieb/tHCp1DLB7PpedaztIV7rdU4vI5SWvTyn73g3RROo7x/UFuMh2DpVKif9vK+zw+0slr8tXFBxd5SzVdASwq+0QKrW+7Lh+Ysc8hJVaunidWI7rtwDn286hUm9qcW21xAkLlRGRISKyScnroSIylORegDoZ2Mp2CJV6OwKH2Q7RmW4vlIlIHmin8720McZsE1GuXnFcfyjwEvApy1FUfVgEjMrnsu22g5Rq7O6bxhgnphzVchZaaBWf7YBDCVbWTIywPfVWwAfGmELx/T7ANwkmabvKGJOY5UEd1x8EvAn8m+0sqq4sJBgXnpi9ddg59a3AQAARGQP8iWBw+xiSN+XLEWihVfx2AA62HaJUt4ffQH9jzJvF10cBvzXGXCIiGYKlQZPke7YDqLp1HPBn2yE69OSW1scjtIwxiTnUAHBcf3eCowelbPhKcXbaRAgrdZuI3CoiVwBDgDYAEdkcSMz5NHC87QCqrmWA79gO0SGs1D8EbiO4MDbBGLO2+Pkw4MzoYlXOcf1WEnq/UNWV8hGX1oSV+gvGmJuNMZcBHz9uZoyZDxQiTVa5owiWJlXKps87rj/edggIL/X0ktePln0vKVe/9dBbJcXRtgNA38Z+Wx8L7rj+OGAn2zmUKjrUcX3rR41hpTZdvO7svQ3ftR1AqRKDScA967D71CNE5EqCvXLHa4rvra5DVXxm+gCbGZTqxNHATTYDhA0T7faKnjHmxqonqpDj+mMJpv1VKknageE217kOe6Cjy9IWx4XblNiH1FVdywATgVtsBuiWiOwlIv8lIpsV348WkenAw5Gn617W8vaV6spEmxsPm6PsIuC3wLcAX0R+CtwHzAE+H328zjmuvwkw1tb2lQrxpfAfiU7YhbIssIsxZpWIDCF4tHG0MWZx9NG6NZH0T2+satcOjutvamt+8LBirDTGrAIwxrwPvJCAQgN82XYApbohwN62Nh62px4pIjOKrwVwSt5jjLG1DInVcxalKjARuN3GhsNKfWDZ+4ujClKp4jxkOopMJZ21HU9FK3SISD/gcwSjyF7qOCS3wXH9/wRmhP6gUna1A5vkc9kP4t5w2NXvRhGZBiwBbiQYKfO6iEwTkaY4AnZie0vbVaonMsAEWxvuzkXAUGBrY8wXjTG7ACMJZuy0dShu7VaaUj00zsZGw0p9AHCsMWZ5xwfGmGXA97E3oktLrWrFSBsbDX1Ky3Ry0m2MWY+9p7S01KpWWBlKHVbqhSKy0dxLInIUweoEsSo+q7p53NtVqpeslDrsKa3hBHOUrQTmEeyddwP6AwcZY96II2QHx/VHA0/HuU2l+sAA/fO57Oo4Nxr2lNYbwB4isi8wimAAyt3GGFuLueuht6olAmwB/CPOjXZb6uLqlhBM3P9U+efGmPeiCtYFLbWqNVuRpFLzySG3EJzLdqzWIcXP4171Ukutak3s59Vhh99bd7wWkfnF+9Q2fc7y9pXqqdhL3ZPHF5Mw0eDQ8B9RKlESXeokaLYdQKke2jLuDYZdKPtRydvNyt5jjLk0klRd01KrWjM47g2GXSgbVPL6N2XvbdBSq1oT+3+zYRfKzgUQkU2NMVamZimjpVa1JvanGcMevTxARN4FFojIEhGx8tRJCS21qjXJKjVwAbC3MeazBDOKXhh9pG5pqVWtib3UYefU64wxiwCMMXNERM+pUyZD+/rpzec/vLss0imiItCOLIf3Y91mWKnLr3hv8D7Oq9+O6zdQe7fgEm0QHxXubzlt8WbygU7kGJEMZlnc2wwrdfkVb5tXwHUvXUXbyJuv3t08ZV2LrNVFEaK1Pu4NVnT1OyFi/z8nrb6amfvUr5su2zIjRkfoRW9N3BusZC2t/UVkpogsFZF3ReQhEYl9KqN8LruGuE9OUujHjbfOuqbp0lFa6NjE/SRj6IiyY4HjgdOBucWPxwI5ERlhjLkm4nzl3gKGxLzNVBDa2//QdMGscQ0L9fw5XrGP7wg7pz4VmFD23HSbiOxPsOpl3KV+G9gh5m3WvIGsXH5/y+RFw+R9LXT8/hX3BsNKLZ1NhGCM+ZeIRBSpW2/Z2Ggtc+St1+9pdlf3k7W72c5Sp2LfU4edUy8TkZ3LPyx+tryTn4+alroH9snMf7qtefKAfrJWn0O3J3GH3z8GZojI9Ww48eAk4KiIs3VGS12hkxtue/jUxj/vLqK3Ai1L1uG3MeZhEdkDOAE4mmAao+eAPY0xb0cfbyM2tllThPb2G5qmzZrYsEDPn5Ph9bg3GLanpljec8o/F5HxxpjZkaTqmu6puzGQlR/+reX0hcPlX1ro5Hgh7g2G3dJqAA4FhhNMDfyciBwA/IRg7u+45yzTUndhS3lnyb3NZ6zsL2t2t51FfWwFCdxTX0cwb/HjwM9F5FVgL8A1xtwRcbbOvBn+I/Vn78yCZ25smjosI2aE7SxqAy/iFWKf2y+s1GOB0caY9uIa1UuBz1k6nyafyy5zXP9VLC1nkkQnNPxl9mmNt4wVocV2FrWR2JemgvBSrzHGtAMYY1aJyIu2Cl1iHlpqwJjrmi6e+ZWG+Xr+nFyxn09DeKm3E5EFxdcCjCy+F4IVMUdHmq5z84CDLWw3MQaw6qN7ms94ZsvMu1roZHvexkbDSr19LCl6Zp7tADaNkHff/Fvz6csHyOo9bWdRoebY2Gjo89TGmK/FkqRydVvqcZlnn/t904WfbhDzBdtZVKgleIW8jQ2HDRP9dCwpeiCfyy4FXrSdI27HNviP/KHpgpENYjaznUVVJO4xHB8L21O3ikiX56/GmNuqnKdSM4FtLW07Zsb8qumymfs1zNXz59rysK0Nh5YaOIDgwlg5Q7AgvQ2zgP+xtO3Y9Gf1irub3aedzDta6NqT2FK/aoz5bixJemam7QBR+yxL37qv5fQPBsqqvWxnUT22DFgQ+lMRCTuntvLQdJh8LpsHXrOdIyq7y/MLZ7WcIgNlVRLvPqhwbXiFdlsbDyv1JBEZX/6hiOwtIiMjylSpGZa3H4lJDfc8ekvzeVs3iBlmO4vqtTtsbrySFTo6mwxhJXB51dP0zHTL26+6XzRd8aDX+Ls9RehvO4vqtXXAX20GEGO6Hm8uIs8aY3bs4nvPGGOsrurguP7LwNY2M1RDC2tW3d085cltMm/ZXqtM9V0bXuErNgOE7an7dfO9JOxNbrYdoK+G8d47c1u+/5IWOjVutx0grNRPFKcJ3oCIHEMyRnbV9CH4rvLioodbTm4fJCtH2c6iquYO2wHCDr8/Q/Avzxo+KfFYgiVwDkrAE1s4rv8M0OkpQpId1XDfY+c1Xj9ahAG2s6iqeQyvYP0WZNgcZe8A40RkHz4pjm+MaYs8WeWmE1zQqxmXNV314DczsyeKJPOWoeq139gOAOGLzu8LYIx5ALjTGPPzjkJ3N3w0Zn+0HaBSzaxd/bfm02Yf1DD7y1ro1CmQkGs8YefUF5e8/r+y751V5Sy9UhyI8qjtHGE24/1357Z8b/G2mTc2uu+vUuEmvMIK2yGgZyPKyvcsSdrT/MF2gO6MkX+88EjLD9YMlpU1d+6vKhb3ElRdCiu16eJ1Z+9tugELKyFU4rCGtjm3N58zolHah9vOoiLzGF7B2ljvcmGl3kZEZojIX0ted7xPzKCPfC77EXCp7RzlpjX++qELG6/dTYSBtrOoSP3SdoBSYbe0un3kzxjzUNUT9ZLj+oOAPGB93eUm1q2Z0XzW49tnXptgO4uK3CvAtniFdbaDdOi21N3+osgtxphvVzlPnziufzbwM5sZNqGwtK1l8lut8pHVIbQqNsfhFRJxK6tD2OF3d6zfZO/ElQS3FqzYSV5e/FjLSau00HXjNYLrOYnSl1InTj6XLRAUO3bfysx8YkbzWcOaZL2uklE/LsQrrLUdolzYWlq7dvUtoKn6cariMuCHwKC4NnhB47UPHd7QtrdIuv6RVN1aAvzWdojOhF0oe6C7XzbG7FP1RFXguP4FwJSot9PIurV3NJ/z2I6Z/N5Rb0slzgl4hURd9e4QNvY7kaWtwKXAyRDdraQhLHuvrWXy60PkQy10/VlAggablAsb+316yetDyr6X2IcoinODnxfV37+9vPrS4y0nfjhEPtw5qm2oRDsJr7DedoiuhJ0DHlbyuvxwdr8qZ6m2S4Anq/2XHpiZPfeu5imfbpL1W1b771Y1YTpeYZbtEN1Jy9jvjeRz2XXAMQRzRlXFuY3Xz7y86apdRBhcrb9T1ZQPgdNshwiTlrHfncrnsk8B0/r69wQXxM6eNanxvi+J0ND3ZKpGnYdXeNN2iDBhk/nvLCLLCPbK/YuvKb7vbv6yJPkZwdK32/Xmlz/F8vfvb5mc30SW6wWx+vYM9mfQrUivh4nWEsf1xxEs1dOj+8hfkNde+WvzmZlmWa+L3Ne3tcDueIWnbAepRF0Mlsjnso8AV/Xkd7KZx+bd0+wO1UIr4Ge1Umiok1IXTQFereQHz2q8aeYvmq7cWYTWiDOp5JsNXGg7RE/UxeF3B8f1vwrcSxdX7htYv+6W5vMeGZt58UvxJlMJ9QEwBq9Q0c4gKeppT00+l70POL+z7w3mw8KclhMXaKFVieNrrdBQZ6UuOge4s/SDz8uS/BMtJ7y3qSzr6gEWVX8uwivcajtEb9RdqfO5rAGOAl4A+Hrm8fn3Np/+qRZZl5jpmZR1dwGu7RC9VVfn1KUc199ucuMtV5zY8Jd9RULv16v68TywJ15hWehPJlTdlhoAr/XrBIfiWmoF8D7B/eh/2A7SF3V3+L0Br3Av8APbMVQirAMOrfVCQ72XGsAr/ArI2Y6hrGoHJuEV/m47SDVoqQG8whRqZFyvqjpDMCNoTS+LXEpL3cErnApcbTuGit0peIXrbIeoJi31hk4CrrUdQsXGxSv83HaIatNSl/IKBjgeuNF2FBU5D68w1XaIKNT3La2ueK0ZgkPx421HUVXXDpyMV+jRU3u1REvdHa91CsFY8URP3aQqtho4Eq9QvtZ6qmipw3itRxJM2t5sO4rqkw+AA/EKM20HiZqWuhJe6z7A7aDPV9eoJcD+eIVnbQeJg14oq4RXeACYALxsO4rqsVnAHvVSaNBSVy74j2JX4DbbUVTFLgb2rYUZQKtJD797w2s9hWDqYT3PTqYCcDRe4Q7bQWzQUveW17obcCvgWE6iNjQfOASv8JLtILbo4XdveYUngF0Iiq3sWw9MBcbVc6FB99TV4bV+g2CwynDbUerU08AxeIV5toMkge6pq8ErzAB2ICi2/isZnzXA2cBuWuhP6J662rzW8cBvgO1tR0m5R4Bj8QoLbQdJGi11FLzWZuAE4ExgU8tp0mYxMCXtQz37QksdJa91MMHSp6cCAy2nqXXvEix2+Gu8wlrbYZJMSx0Hr3UYwbnfsUCT5TS1ZgXBrDRTa3mGzzhpqePktY4EfgQcDQywGybx/kmwqOHVeIWltsPUEi21DV7rUOA4gplW9DbYhhYBlwK/xyussh2mFmmpbfJam4BDCM65x1pOY5MB2oArgDuLM9CoXtJSJ4XXuhNwRPFrS8tp4vIywdRRN9biQnRJpaVOGq9VgPHAkQR78U3sBqq6twmG1k7HK8yxHSaNtNRJFhyeTwT2B/YjGLVWa9YCjwL3EKwNPl8Pr6Olpa4lXusIYN/i10SS+YTYeoJF5mYRlLgNr7DcbqT6oqWuZcFV9DEET4uNKX5tR3wL/q0FFgLzgCeLfz6NV1gZ0/ZVJ7TUaeO19gNGAiOALYp/dnwNBwYB/YF+xT/LB8OsBT4q+VpBcM/4VeC1kj9fA5ZUe3SXiIwguD+9A8EDR3cSjMo7AhhrjDmp5GcfBCYbY+aKSL74/bq/p61LuKZNcG/3ueJXBT/f2kBQ8EZghc0hmCIiBNNF/dIYc6CINADXEEzTXNn/HqWlrnteYT3BHjkJ9gVWGWOuBzDGrBeRU4FXCIbZqgro89QqSUYRnJd/zBizjOBQX3dAFdJSqyQROp9kQoAhXfyOXhQqo6VWSfIcZcNlRWQwwQW/+Wxc7KFA3V8YK6elVklyPzBARL4DULxQdglwAzAHGC8iw4rfGwu0AK/biZpcep6iEsMYY0TkIOBqETmbYKdzF/ATY8xqETkFuEtEMsCHwOHGmHaLkRNJ71MrlTJ6+K1UymiplUoZLbVSKaOlVipltNRKpYyWWqmU0VIrlTJaaqVSRkutVMpoqZVKGS21UimjpVYqZbTUSqWMllqplNFSK5UyWmqlUkZLrVTKaKmVShkttVIpo6VWKmW01EqlzP8DJZrWa4tV364AAAAASUVORK5CYII=\n",
      "text/plain": [
       "<Figure size 432x288 with 1 Axes>"
      ]
     },
     "metadata": {},
     "output_type": "display_data"
    }
   ],
   "source": [
    "for col in df.select_dtypes('object'):\n",
    "    plt.figure()\n",
    "    df[col].value_counts(normalize=True).plot.pie()"
   ]
  },
  {
   "cell_type": "code",
   "execution_count": 11,
   "metadata": {
    "scrolled": false
   },
   "outputs": [
    {
     "data": {
      "text/html": [
       "<div>\n",
       "<style scoped>\n",
       "    .dataframe tbody tr th:only-of-type {\n",
       "        vertical-align: middle;\n",
       "    }\n",
       "\n",
       "    .dataframe tbody tr th {\n",
       "        vertical-align: top;\n",
       "    }\n",
       "\n",
       "    .dataframe thead th {\n",
       "        text-align: right;\n",
       "    }\n",
       "</style>\n",
       "<table border=\"1\" class=\"dataframe\">\n",
       "  <thead>\n",
       "    <tr style=\"text-align: right;\">\n",
       "      <th></th>\n",
       "      <th>SEXE</th>\n",
       "      <th>NIVEAUDETUDE</th>\n",
       "      <th>FACULTE</th>\n",
       "      <th>ETATCIVIL</th>\n",
       "      <th>HEREDITE</th>\n",
       "      <th>TRANSMISSION</th>\n",
       "      <th>PREVENTION</th>\n",
       "      <th>DREPANOCYTOSE</th>\n",
       "      <th>ROLES</th>\n",
       "      <th>ELECTROPHORESE</th>\n",
       "      <th>REACTION</th>\n",
       "      <th>MOMENTIDEAL</th>\n",
       "      <th>NIVEAU_CONNAISSANCE</th>\n",
       "    </tr>\n",
       "  </thead>\n",
       "  <tbody>\n",
       "    <tr>\n",
       "      <th>0</th>\n",
       "      <td>M</td>\n",
       "      <td>G3</td>\n",
       "      <td>DROIT</td>\n",
       "      <td>FIANCE</td>\n",
       "      <td>NON</td>\n",
       "      <td>OUI</td>\n",
       "      <td>OUI</td>\n",
       "      <td>NON</td>\n",
       "      <td>2</td>\n",
       "      <td>NON</td>\n",
       "      <td>1</td>\n",
       "      <td>1</td>\n",
       "      <td>2</td>\n",
       "    </tr>\n",
       "    <tr>\n",
       "      <th>1</th>\n",
       "      <td>M</td>\n",
       "      <td>G3</td>\n",
       "      <td>DROIT</td>\n",
       "      <td>NE</td>\n",
       "      <td>NON</td>\n",
       "      <td>OUI</td>\n",
       "      <td>OUI</td>\n",
       "      <td>NON</td>\n",
       "      <td>4</td>\n",
       "      <td>NON</td>\n",
       "      <td>1</td>\n",
       "      <td>1</td>\n",
       "      <td>2</td>\n",
       "    </tr>\n",
       "    <tr>\n",
       "      <th>2</th>\n",
       "      <td>M</td>\n",
       "      <td>G3</td>\n",
       "      <td>ECO</td>\n",
       "      <td>NE</td>\n",
       "      <td>NON</td>\n",
       "      <td>NON</td>\n",
       "      <td>OUI</td>\n",
       "      <td>NON</td>\n",
       "      <td>5</td>\n",
       "      <td>NON</td>\n",
       "      <td>2</td>\n",
       "      <td>1</td>\n",
       "      <td>2</td>\n",
       "    </tr>\n",
       "    <tr>\n",
       "      <th>3</th>\n",
       "      <td>F</td>\n",
       "      <td>G1</td>\n",
       "      <td>DROIT</td>\n",
       "      <td>NE</td>\n",
       "      <td>NON</td>\n",
       "      <td>OUI</td>\n",
       "      <td>OUI</td>\n",
       "      <td>NON</td>\n",
       "      <td>5</td>\n",
       "      <td>NON</td>\n",
       "      <td>3</td>\n",
       "      <td>2</td>\n",
       "      <td>2</td>\n",
       "    </tr>\n",
       "    <tr>\n",
       "      <th>4</th>\n",
       "      <td>F</td>\n",
       "      <td>G1</td>\n",
       "      <td>ECO</td>\n",
       "      <td>NE</td>\n",
       "      <td>OUI</td>\n",
       "      <td>NON</td>\n",
       "      <td>OUI</td>\n",
       "      <td>NON</td>\n",
       "      <td>2</td>\n",
       "      <td>NON</td>\n",
       "      <td>1</td>\n",
       "      <td>3</td>\n",
       "      <td>2</td>\n",
       "    </tr>\n",
       "    <tr>\n",
       "      <th>...</th>\n",
       "      <td>...</td>\n",
       "      <td>...</td>\n",
       "      <td>...</td>\n",
       "      <td>...</td>\n",
       "      <td>...</td>\n",
       "      <td>...</td>\n",
       "      <td>...</td>\n",
       "      <td>...</td>\n",
       "      <td>...</td>\n",
       "      <td>...</td>\n",
       "      <td>...</td>\n",
       "      <td>...</td>\n",
       "      <td>...</td>\n",
       "    </tr>\n",
       "    <tr>\n",
       "      <th>180</th>\n",
       "      <td>NaN</td>\n",
       "      <td>L1</td>\n",
       "      <td>PSY</td>\n",
       "      <td>ENG</td>\n",
       "      <td>NON</td>\n",
       "      <td>OUI</td>\n",
       "      <td>OUI</td>\n",
       "      <td>OUI</td>\n",
       "      <td>4</td>\n",
       "      <td>NON</td>\n",
       "      <td>0</td>\n",
       "      <td>3</td>\n",
       "      <td>3</td>\n",
       "    </tr>\n",
       "    <tr>\n",
       "      <th>181</th>\n",
       "      <td>NaN</td>\n",
       "      <td>L1</td>\n",
       "      <td>PSY</td>\n",
       "      <td>ENG</td>\n",
       "      <td>OUI</td>\n",
       "      <td>NON</td>\n",
       "      <td>NON</td>\n",
       "      <td>NON</td>\n",
       "      <td>3</td>\n",
       "      <td>NON</td>\n",
       "      <td>1</td>\n",
       "      <td>1</td>\n",
       "      <td>1</td>\n",
       "    </tr>\n",
       "    <tr>\n",
       "      <th>182</th>\n",
       "      <td>NaN</td>\n",
       "      <td>L1</td>\n",
       "      <td>PG</td>\n",
       "      <td>ENG</td>\n",
       "      <td>NON</td>\n",
       "      <td>OUI</td>\n",
       "      <td>OUI</td>\n",
       "      <td>OUI</td>\n",
       "      <td>5</td>\n",
       "      <td>NON</td>\n",
       "      <td>0</td>\n",
       "      <td>2</td>\n",
       "      <td>3</td>\n",
       "    </tr>\n",
       "    <tr>\n",
       "      <th>183</th>\n",
       "      <td>NaN</td>\n",
       "      <td>L1</td>\n",
       "      <td>PG</td>\n",
       "      <td>FIANCE</td>\n",
       "      <td>OUI</td>\n",
       "      <td>OUI</td>\n",
       "      <td>OUI</td>\n",
       "      <td>OUI</td>\n",
       "      <td>2</td>\n",
       "      <td>OUI</td>\n",
       "      <td>3</td>\n",
       "      <td>3</td>\n",
       "      <td>5</td>\n",
       "    </tr>\n",
       "    <tr>\n",
       "      <th>184</th>\n",
       "      <td>NaN</td>\n",
       "      <td>L1</td>\n",
       "      <td>MED VET</td>\n",
       "      <td>FIANCE</td>\n",
       "      <td>OUI</td>\n",
       "      <td>NON</td>\n",
       "      <td>NON</td>\n",
       "      <td>NON</td>\n",
       "      <td>1</td>\n",
       "      <td>OUI</td>\n",
       "      <td>1</td>\n",
       "      <td>2</td>\n",
       "      <td>2</td>\n",
       "    </tr>\n",
       "  </tbody>\n",
       "</table>\n",
       "<p>185 rows × 13 columns</p>\n",
       "</div>"
      ],
      "text/plain": [
       "    SEXE NIVEAUDETUDE  FACULTE ETATCIVIL HEREDITE TRANSMISSION PREVENTION  \\\n",
       "0      M           G3    DROIT    FIANCE      NON          OUI        OUI   \n",
       "1      M           G3    DROIT        NE      NON          OUI        OUI   \n",
       "2      M           G3      ECO        NE      NON          NON        OUI   \n",
       "3      F           G1    DROIT        NE      NON          OUI        OUI   \n",
       "4      F           G1      ECO        NE      OUI          NON        OUI   \n",
       "..   ...          ...      ...       ...      ...          ...        ...   \n",
       "180  NaN           L1      PSY       ENG      NON          OUI        OUI   \n",
       "181  NaN           L1      PSY       ENG      OUI          NON        NON   \n",
       "182  NaN           L1       PG       ENG      NON          OUI        OUI   \n",
       "183  NaN           L1       PG    FIANCE      OUI          OUI        OUI   \n",
       "184  NaN           L1  MED VET    FIANCE      OUI          NON        NON   \n",
       "\n",
       "    DREPANOCYTOSE  ROLES ELECTROPHORESE  REACTION  MOMENTIDEAL  \\\n",
       "0             NON      2            NON         1            1   \n",
       "1             NON      4            NON         1            1   \n",
       "2             NON      5            NON         2            1   \n",
       "3             NON      5            NON         3            2   \n",
       "4             NON      2            NON         1            3   \n",
       "..            ...    ...            ...       ...          ...   \n",
       "180           OUI      4            NON         0            3   \n",
       "181           NON      3            NON         1            1   \n",
       "182           OUI      5            NON         0            2   \n",
       "183           OUI      2            OUI         3            3   \n",
       "184           NON      1            OUI         1            2   \n",
       "\n",
       "     NIVEAU_CONNAISSANCE  \n",
       "0                      2  \n",
       "1                      2  \n",
       "2                      2  \n",
       "3                      2  \n",
       "4                      2  \n",
       "..                   ...  \n",
       "180                    3  \n",
       "181                    1  \n",
       "182                    3  \n",
       "183                    5  \n",
       "184                    2  \n",
       "\n",
       "[185 rows x 13 columns]"
      ]
     },
     "execution_count": 11,
     "metadata": {},
     "output_type": "execute_result"
    }
   ],
   "source": [
    "df"
   ]
  },
  {
   "cell_type": "code",
   "execution_count": 13,
   "metadata": {},
   "outputs": [],
   "source": [
    "Excellent = df[df['NIVEAU_CONNAISSANCE']== 5]\n",
    "Bien  =  df[df['NIVEAU_CONNAISSANCE']== 4]\n",
    "AssezBien =df[df['NIVEAU_CONNAISSANCE']== 3]\n",
    "Faible = df[df['NIVEAU_CONNAISSANCE']== 2]\n",
    "Mediocre =df[df['NIVEAU_CONNAISSANCE']== 1]"
   ]
  },
  {
   "cell_type": "markdown",
   "metadata": {},
   "source": [
    "## Relation entre variables"
   ]
  },
  {
   "cell_type": "code",
   "execution_count": 14,
   "metadata": {},
   "outputs": [
    {
     "data": {
      "text/plain": [
       "<matplotlib.axes._subplots.AxesSubplot at 0x7fc2e68bc490>"
      ]
     },
     "execution_count": 14,
     "metadata": {},
     "output_type": "execute_result"
    },
    {
     "data": {
      "image/png": "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\n",
      "text/plain": [
       "<Figure size 432x288 with 1 Axes>"
      ]
     },
     "metadata": {
      "needs_background": "light"
     },
     "output_type": "display_data"
    }
   ],
   "source": [
    "sns.countplot(x='ETATCIVIL', hue = 'NIVEAU_CONNAISSANCE', data=df)"
   ]
  },
  {
   "cell_type": "code",
   "execution_count": 15,
   "metadata": {},
   "outputs": [
    {
     "data": {
      "text/plain": [
       "<matplotlib.axes._subplots.AxesSubplot at 0x7fc2e683e670>"
      ]
     },
     "execution_count": 15,
     "metadata": {},
     "output_type": "execute_result"
    },
    {
     "data": {
      "image/png": "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\n",
      "text/plain": [
       "<Figure size 432x288 with 1 Axes>"
      ]
     },
     "metadata": {
      "needs_background": "light"
     },
     "output_type": "display_data"
    }
   ],
   "source": [
    "sns.countplot(x='SEXE', hue = 'NIVEAU_CONNAISSANCE', data=df)"
   ]
  },
  {
   "cell_type": "code",
   "execution_count": 16,
   "metadata": {},
   "outputs": [
    {
     "data": {
      "text/plain": [
       "<matplotlib.axes._subplots.AxesSubplot at 0x7fc2e6750d30>"
      ]
     },
     "execution_count": 16,
     "metadata": {},
     "output_type": "execute_result"
    },
    {
     "data": {
      "image/png": "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\n",
      "text/plain": [
       "<Figure size 432x288 with 1 Axes>"
      ]
     },
     "metadata": {
      "needs_background": "light"
     },
     "output_type": "display_data"
    }
   ],
   "source": [
    "sns.countplot(x='FACULTE', hue = 'NIVEAU_CONNAISSANCE', data=df)"
   ]
  },
  {
   "cell_type": "code",
   "execution_count": 17,
   "metadata": {},
   "outputs": [
    {
     "data": {
      "text/plain": [
       "<matplotlib.axes._subplots.AxesSubplot at 0x7fc2e6750070>"
      ]
     },
     "execution_count": 17,
     "metadata": {},
     "output_type": "execute_result"
    },
    {
     "data": {
      "image/png": "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\n",
      "text/plain": [
       "<Figure size 432x288 with 1 Axes>"
      ]
     },
     "metadata": {
      "needs_background": "light"
     },
     "output_type": "display_data"
    }
   ],
   "source": [
    "sns.countplot(x='ELECTROPHORESE', hue = 'NIVEAU_CONNAISSANCE', data=df)"
   ]
  },
  {
   "cell_type": "code",
   "execution_count": 18,
   "metadata": {},
   "outputs": [
    {
     "data": {
      "text/plain": [
       "<matplotlib.axes._subplots.AxesSubplot at 0x7fc2e6623ca0>"
      ]
     },
     "execution_count": 18,
     "metadata": {},
     "output_type": "execute_result"
    },
    {
     "data": {
      "image/png": "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\n",
      "text/plain": [
       "<Figure size 432x288 with 1 Axes>"
      ]
     },
     "metadata": {
      "needs_background": "light"
     },
     "output_type": "display_data"
    }
   ],
   "source": [
    "sns.countplot(x='DREPANOCYTOSE', hue = 'NIVEAU_CONNAISSANCE', data=df)"
   ]
  },
  {
   "cell_type": "code",
   "execution_count": 19,
   "metadata": {},
   "outputs": [
    {
     "data": {
      "text/plain": [
       "<matplotlib.axes._subplots.AxesSubplot at 0x7fc2e659dac0>"
      ]
     },
     "execution_count": 19,
     "metadata": {},
     "output_type": "execute_result"
    },
    {
     "data": {
      "image/png": "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\n",
      "text/plain": [
       "<Figure size 432x288 with 1 Axes>"
      ]
     },
     "metadata": {
      "needs_background": "light"
     },
     "output_type": "display_data"
    }
   ],
   "source": [
    "sns.countplot(x='PREVENTION', hue = 'NIVEAU_CONNAISSANCE', data=df)"
   ]
  },
  {
   "cell_type": "code",
   "execution_count": 20,
   "metadata": {},
   "outputs": [
    {
     "data": {
      "text/plain": [
       "<matplotlib.axes._subplots.AxesSubplot at 0x7fc2e6514d60>"
      ]
     },
     "execution_count": 20,
     "metadata": {},
     "output_type": "execute_result"
    },
    {
     "data": {
      "image/png": "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\n",
      "text/plain": [
       "<Figure size 432x288 with 1 Axes>"
      ]
     },
     "metadata": {
      "needs_background": "light"
     },
     "output_type": "display_data"
    }
   ],
   "source": [
    "sns.countplot(x='TRANSMISSION', hue = 'NIVEAU_CONNAISSANCE', data=df)"
   ]
  },
  {
   "cell_type": "code",
   "execution_count": 21,
   "metadata": {},
   "outputs": [
    {
     "data": {
      "text/plain": [
       "<matplotlib.axes._subplots.AxesSubplot at 0x7fc2e65301c0>"
      ]
     },
     "execution_count": 21,
     "metadata": {},
     "output_type": "execute_result"
    },
    {
     "data": {
      "image/png": "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\n",
      "text/plain": [
       "<Figure size 432x288 with 1 Axes>"
      ]
     },
     "metadata": {
      "needs_background": "light"
     },
     "output_type": "display_data"
    }
   ],
   "source": [
    "sns.countplot(x='HEREDITE', hue = 'NIVEAU_CONNAISSANCE', data=df)"
   ]
  },
  {
   "cell_type": "code",
   "execution_count": 22,
   "metadata": {},
   "outputs": [
    {
     "data": {
      "text/plain": [
       "<matplotlib.axes._subplots.AxesSubplot at 0x7fc2e6491820>"
      ]
     },
     "execution_count": 22,
     "metadata": {},
     "output_type": "execute_result"
    },
    {
     "data": {
      "image/png": "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\n",
      "text/plain": [
       "<Figure size 432x288 with 1 Axes>"
      ]
     },
     "metadata": {
      "needs_background": "light"
     },
     "output_type": "display_data"
    }
   ],
   "source": [
    "sns.countplot(x='NIVEAUDETUDE', hue = 'NIVEAU_CONNAISSANCE', data=df)"
   ]
  },
  {
   "cell_type": "code",
   "execution_count": 23,
   "metadata": {},
   "outputs": [
    {
     "data": {
      "text/plain": [
       "<matplotlib.axes._subplots.AxesSubplot at 0x7fc2e63e4a60>"
      ]
     },
     "execution_count": 23,
     "metadata": {},
     "output_type": "execute_result"
    },
    {
     "data": {
      "image/png": "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\n",
      "text/plain": [
       "<Figure size 432x288 with 1 Axes>"
      ]
     },
     "metadata": {
      "needs_background": "light"
     },
     "output_type": "display_data"
    }
   ],
   "source": [
    "sns.countplot(x='REACTION', hue = 'NIVEAU_CONNAISSANCE', data=df)"
   ]
  },
  {
   "cell_type": "code",
   "execution_count": 24,
   "metadata": {},
   "outputs": [
    {
     "data": {
      "text/plain": [
       "<matplotlib.axes._subplots.AxesSubplot at 0x7fc2e6379e50>"
      ]
     },
     "execution_count": 24,
     "metadata": {},
     "output_type": "execute_result"
    },
    {
     "data": {
      "image/png": "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\n",
      "text/plain": [
       "<Figure size 432x288 with 1 Axes>"
      ]
     },
     "metadata": {
      "needs_background": "light"
     },
     "output_type": "display_data"
    }
   ],
   "source": [
    "sns.countplot(x='MOMENTIDEAL', hue = 'NIVEAU_CONNAISSANCE', data=df)"
   ]
  },
  {
   "cell_type": "code",
   "execution_count": 25,
   "metadata": {},
   "outputs": [
    {
     "data": {
      "text/html": [
       "<div>\n",
       "<style scoped>\n",
       "    .dataframe tbody tr th:only-of-type {\n",
       "        vertical-align: middle;\n",
       "    }\n",
       "\n",
       "    .dataframe tbody tr th {\n",
       "        vertical-align: top;\n",
       "    }\n",
       "\n",
       "    .dataframe thead th {\n",
       "        text-align: right;\n",
       "    }\n",
       "</style>\n",
       "<table border=\"1\" class=\"dataframe\">\n",
       "  <thead>\n",
       "    <tr style=\"text-align: right;\">\n",
       "      <th>FACULTE</th>\n",
       "      <th>AGRO</th>\n",
       "      <th>DROIT</th>\n",
       "      <th>ECO</th>\n",
       "      <th>LETTRE</th>\n",
       "      <th>MED VET</th>\n",
       "      <th>PG</th>\n",
       "      <th>POLY</th>\n",
       "      <th>PSY</th>\n",
       "      <th>Pharm</th>\n",
       "      <th>SCIE</th>\n",
       "      <th>SSPA</th>\n",
       "    </tr>\n",
       "    <tr>\n",
       "      <th>NIVEAU_CONNAISSANCE</th>\n",
       "      <th></th>\n",
       "      <th></th>\n",
       "      <th></th>\n",
       "      <th></th>\n",
       "      <th></th>\n",
       "      <th></th>\n",
       "      <th></th>\n",
       "      <th></th>\n",
       "      <th></th>\n",
       "      <th></th>\n",
       "      <th></th>\n",
       "    </tr>\n",
       "  </thead>\n",
       "  <tbody>\n",
       "    <tr>\n",
       "      <th>1</th>\n",
       "      <td>5</td>\n",
       "      <td>2</td>\n",
       "      <td>9</td>\n",
       "      <td>6</td>\n",
       "      <td>5</td>\n",
       "      <td>6</td>\n",
       "      <td>9</td>\n",
       "      <td>6</td>\n",
       "      <td>10</td>\n",
       "      <td>5</td>\n",
       "      <td>5</td>\n",
       "    </tr>\n",
       "    <tr>\n",
       "      <th>2</th>\n",
       "      <td>5</td>\n",
       "      <td>9</td>\n",
       "      <td>5</td>\n",
       "      <td>3</td>\n",
       "      <td>5</td>\n",
       "      <td>4</td>\n",
       "      <td>2</td>\n",
       "      <td>6</td>\n",
       "      <td>5</td>\n",
       "      <td>10</td>\n",
       "      <td>5</td>\n",
       "    </tr>\n",
       "    <tr>\n",
       "      <th>3</th>\n",
       "      <td>1</td>\n",
       "      <td>2</td>\n",
       "      <td>0</td>\n",
       "      <td>5</td>\n",
       "      <td>0</td>\n",
       "      <td>4</td>\n",
       "      <td>3</td>\n",
       "      <td>2</td>\n",
       "      <td>3</td>\n",
       "      <td>1</td>\n",
       "      <td>2</td>\n",
       "    </tr>\n",
       "    <tr>\n",
       "      <th>4</th>\n",
       "      <td>5</td>\n",
       "      <td>2</td>\n",
       "      <td>0</td>\n",
       "      <td>3</td>\n",
       "      <td>3</td>\n",
       "      <td>0</td>\n",
       "      <td>4</td>\n",
       "      <td>0</td>\n",
       "      <td>3</td>\n",
       "      <td>0</td>\n",
       "      <td>2</td>\n",
       "    </tr>\n",
       "    <tr>\n",
       "      <th>5</th>\n",
       "      <td>1</td>\n",
       "      <td>2</td>\n",
       "      <td>4</td>\n",
       "      <td>0</td>\n",
       "      <td>1</td>\n",
       "      <td>2</td>\n",
       "      <td>0</td>\n",
       "      <td>0</td>\n",
       "      <td>1</td>\n",
       "      <td>1</td>\n",
       "      <td>1</td>\n",
       "    </tr>\n",
       "  </tbody>\n",
       "</table>\n",
       "</div>"
      ],
      "text/plain": [
       "FACULTE              AGRO  DROIT  ECO  LETTRE  MED VET  PG  POLY  PSY  Pharm  \\\n",
       "NIVEAU_CONNAISSANCE                                                            \n",
       "1                       5      2    9       6        5   6     9    6     10   \n",
       "2                       5      9    5       3        5   4     2    6      5   \n",
       "3                       1      2    0       5        0   4     3    2      3   \n",
       "4                       5      2    0       3        3   0     4    0      3   \n",
       "5                       1      2    4       0        1   2     0    0      1   \n",
       "\n",
       "FACULTE              SCIE  SSPA  \n",
       "NIVEAU_CONNAISSANCE              \n",
       "1                       5     5  \n",
       "2                      10     5  \n",
       "3                       1     2  \n",
       "4                       0     2  \n",
       "5                       1     1  "
      ]
     },
     "execution_count": 25,
     "metadata": {},
     "output_type": "execute_result"
    }
   ],
   "source": [
    "pd.crosstab(df['NIVEAU_CONNAISSANCE'], df['FACULTE'])"
   ]
  },
  {
   "cell_type": "code",
   "execution_count": 25,
   "metadata": {},
   "outputs": [
    {
     "data": {
      "image/png": "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\n",
      "text/plain": [
       "<Figure size 432x288 with 2 Axes>"
      ]
     },
     "metadata": {
      "needs_background": "light"
     },
     "output_type": "display_data"
    },
    {
     "data": {
      "image/png": "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\n",
      "text/plain": [
       "<Figure size 432x288 with 2 Axes>"
      ]
     },
     "metadata": {
      "needs_background": "light"
     },
     "output_type": "display_data"
    },
    {
     "data": {
      "image/png": "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\n",
      "text/plain": [
       "<Figure size 432x288 with 2 Axes>"
      ]
     },
     "metadata": {
      "needs_background": "light"
     },
     "output_type": "display_data"
    },
    {
     "data": {
      "image/png": "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\n",
      "text/plain": [
       "<Figure size 432x288 with 2 Axes>"
      ]
     },
     "metadata": {
      "needs_background": "light"
     },
     "output_type": "display_data"
    },
    {
     "data": {
      "image/png": "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\n",
      "text/plain": [
       "<Figure size 432x288 with 2 Axes>"
      ]
     },
     "metadata": {
      "needs_background": "light"
     },
     "output_type": "display_data"
    },
    {
     "data": {
      "image/png": "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\n",
      "text/plain": [
       "<Figure size 432x288 with 2 Axes>"
      ]
     },
     "metadata": {
      "needs_background": "light"
     },
     "output_type": "display_data"
    },
    {
     "data": {
      "image/png": "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\n",
      "text/plain": [
       "<Figure size 432x288 with 2 Axes>"
      ]
     },
     "metadata": {
      "needs_background": "light"
     },
     "output_type": "display_data"
    },
    {
     "data": {
      "image/png": "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\n",
      "text/plain": [
       "<Figure size 432x288 with 2 Axes>"
      ]
     },
     "metadata": {
      "needs_background": "light"
     },
     "output_type": "display_data"
    },
    {
     "data": {
      "image/png": "iVBORw0KGgoAAAANSUhEUgAAAXMAAAEGCAYAAACXVXXgAAAAOXRFWHRTb2Z0d2FyZQBNYXRwbG90bGliIHZlcnNpb24zLjUuMCwgaHR0cHM6Ly9tYXRwbG90bGliLm9yZy8/fFQqAAAACXBIWXMAAAsTAAALEwEAmpwYAAAr50lEQVR4nO3deXwU9d3A8c83ByEE5JAIyCHaUqxQRECo4oWKBcTjsYpgH6+qeCK2aku1SvUpfepRFcUrigIKUh+PqtUgiqKoFQUEQQEFRUHuKwHCld3v88dMcAmb7CQ7m9kdvm9f88rszM7Md1zyzW9/8ztEVTHGGJPZsoIOwBhjTPIsmRtjTAhYMjfGmBCwZG6MMSFgydwYY0IgJ+gAqlNy6amhbGozrfigoEPw3RkL/hp0CClxd/fbgg7BdxcWrg46hJRoN2uaJHuO3eu/8ZxzcpsflvT1/JTWydwYY+pUNBJ0BLVmydwYYypoNOgIas2SuTHGVIhaMjfGmIynVjI3xpgQiJQHHUGtWTI3xpgK9gDUGGNCwKpZjDEmBOwBqDHGZD57AGqMMWFgJXNjjAmByO6gI6g1S+bGGFPBqlmMMSYErJrFGGNCwErmxhgTAlYyN8aYzKdRewBqjDGZz0rmmSX/tzeRc2QvtHQzW2+7AoC8sy6i3okD0C2bAdjx4lOUf/5JgFHWTLf7h9Ky71HsXF/KtJP+CEBukwJ6Pn49BW0L2bZ8HZ8MfZDdJdsCjtS7VWvWccv/3Mv6jZvIEuHcs/pz4aCzuXfMk7z34UxycnNo27oVf73l9xzQqGHQ4dZaz8v60XVwH1SVdYuW89rNRUR2Zl4JsdntN5F/3C+JbNrM6vMvB6DxVZeQf2JviEaJbNrMxr/cTWT9hoAjrYZPdeYi0haYALQEokCRqo4WkWbAP4H2wDJgkKpuinN8P2A0kA08qap/T3TN/XIO0F0fvMm2+/60z/adU19k68ir2DryqoxK5ADf/fN9Phpy117bOg47k3UzFjD12N+zbsYCfjbsjICiq52c7GxuHnYFr00qYlLR/Ux+6d8s/fY7jjn6KF5+5jFenvAo7du25sln/hl0qLXWqEVTjr70Vzw18M88cdoIJDuLTmccE3RYtbLttTdZO2zv36vSZ55n9ZArWP2bK9k+42MOuOLCgKLzKBrxvlSvHLhRVX8O/BK4VkSOAEYA01S1AzDNfb0XEckGHgb6A0cAQ9xjq7VfJvPIV/PRrVuCDsNXGz5exK7NW/fa1upX3fn++RkAfP/8DA7u1yOI0GqtsHkzjuj4UwAKChpw2CFtWbNuA717dScnJxuALp0OZ83a9UGGmbSs7Gxy6tdDsrPIzc9jy5p9CmoZYedn84mWlu61TbeV7VnPyq8PmubT+mrU+1LdaVRXqeocd30LsBBoDZwFjHffNh44O87hPYElqvqNqu4CJrvHVWu/rGapSt4pZ1Hv2L5Eln3F9smPQdnWxAelsbzCxuxYuxmAHWs3k9e8cbABJeGHVWtY+PVSunTquNf2l1+fSr9TTgwoquRtWbOJj4teZ9h/HmT3jl18O2M+386YH3RYvmp8zW8pGNCX6LZtrL3yxqDDqV4N6sxFZCgwNGZTkaoWxXlfe+AoYCbQQlVXgZPwRSTe7O6tgeUxr1cAvRLFE0jJXEQurWbfUBGZJSKzxi3+oc5i2vXuq2z5w0VsHXkl0c0byB98VZ1d21SvrGw7v7v1r/zx+itpWFCwZ/vj458jOzubgaf1CTC65NQ/oAE/O607Dx93Aw/2vI7c/Dw6/1fvoMPyVckjT7Fy4BDKiqfRaNDZQYdTvUi550VVi1S1R8wSL5E3BF4EblDV0n0vGJfE2ZbwK01Q1Sx3VLUj9n/QJR1b11lAWrrZ/fqk7HrvDbIP7ZjwmHS3c10J9Q9qAkD9g5qwc31JsAHVwu7ycm649a+cflof+p70Y5J75Y23eP/DT7hr5B8QifdvPzO0P64zm5evo2zjFqLlERZP+ZQ23TsEHVZKbJsyjfxTjg86jOpFo96XBEQkFyeRT1TVl9zNa0Sklbu/FbA2zqErgLYxr9sAKxNdL2XJXEQ+r2KZD7RI1XVrSxo327Oe2/04Ij8sCy4Yn6yaOod2g5xfnnaDjmfVm7MDjqhmVJXb//cBDjukLRcPPmfP9g8+nsXYif/HQ3eNJL9+/QAjTF7pyg20Puqn5NSvB0D73p1YvyTh723GyGn7Y4Es/8RjKV+2vJp3B0814nmpjjgljLHAQlW9L2bXq8DF7vrFwCtxDv8U6CAih4pIPWCwe1y1Ulln3gL4FVD5aY4AH6XwugnlX3kLOYcfiTRsTKN/PMeOf40n5/AjyW73U1Alun4128c/EGSINXb0o9dReOzPqdesEf3nPMSX97zIVw+9Ss+i62l/QR/KfljPzCtGBx1mjXz2+Re8NmUaHX7Snl9ffC0Aw6+8mP994DF27d7NFTfcCjgPQUf+YViQodbayrlLWfTGJ1z2+iiikQhrvviOzya9E3RYtXLgqFup3/1Ispo05uDXJ1NSNJ783j3JOaQtRJXIqjVs/N8Hgg6zev61M+8NXAjMF5G57rZbgL8Dz4vIZcD3wHkAInIwThPEAapaLiLXAW/iNE18SlW/SHRB0RQ9XRaRscDTqvpBnH2TVPWCROcoufTUNH/0XTvTiuM988hsZyz4a9AhpMTd3W8LOgTfXVi4OugQUqLdrGlJ17dtf/dJzzknv8/laVW/l7KSuapeVs2+hIncGGPqnPUANcaYEIiUBx1BrVkyN8aYCjYErjHGhIBVsxhjTAhYMjfGmBCwahZjjAkBewBqjDEhYNUsxhgTAlbNYowxIWAlc2OMCQFL5sYYEwLpPhNSNSyZG2NMhXJrzWKMMZnPHoAaY0wIWJ25McaEgNWZG2NMCFjJPDXCOCMPQHN2Bx2C7xb3vD7oEFLirOygI/Bfg8LMfciXcj4mcxF5ChgIrFXVzu62fwIVs8U3ATaratc4xy4DtgARoFxVeyS6Xlonc2OMqUsaqX6i5hoaB4wBJuw5v+r5Fesi8g+gpJrj+6jqeq8Xs2RujDEVfCyZq+r7ItI+3j4REWAQcLJf18vy60TGGJPxNOp5EZGhIjIrZhlagysdD6xR1a+rigSYKiKzvZ7XSubGGFMh6r01i6oWAUW1vNIQ4Llq9vdW1ZUichDwlogsUtX3qzuhJXNjjKlQB61ZRCQHOAfoXtV7VHWl+3OtiLwM9ASqTeZWzWKMMRUiEe9L7Z0KLFLVFfF2ikiBiDSqWAdOAxYkOmnCZC4if4hZP6/Svr8lOt4YYzJGNOp9SUBEngP+A3QUkRUicpm7azCVqlhE5GARecN92QL4QETmAZ8Ar6vqlETX81LNMhi4213/E/B/Mfv6Abd4OIcxxqS/GtSZJ6KqQ6rYfkmcbSuBAe76N8CRNb2el2QuVazHe22MMZkr5ANtaRXr8V4bY0zm8rFkXte8JPMjRaQUpxSe767jvq6fssiMMaaOaZjHZlHVEI5OYYwxcfjbnb9OeWnNcrSI9I+z/QwRqbKdpDHGZJyoel/SjJd25vcAC+NsX+juM8aYcPCxaWJd81JnfqCqLqu8UVWXiMiB/odkjDEBScMSt1deknl+NfsK/ArEGGMCF/KmiW+LyCjgz6o/zqkkIncA76QsshTqdv9QWvY9ip3rS5l20h8ByG1SQM/Hr6egbSHblq/jk6EPsrtkW8CRevez+6+mWd/u7F5fwuyTbgSg+Rm/5JCbBtGgQ2s+6/8nts77JuAoa671XcNp1OdoyjeUsKT/tQC0GHEpB5zSE91dzq7vVrPiDw8Q3ZI5n1UY7wmg4e/+SL2exxDdvInNV1+61778X59PweXXsOH8M9HS6obwDlgGl8y91JnfCBwGLBGRF91lCc5sGb9PaXQp8t0/3+ejIXftta3jsDNZN2MBU4/9PetmLOBnw84IKLraWfPP6SwYMmqvbdsWLefL395LycfxHnlkhk0vvM2yS0futW3bB3P5ut+1LBkwjJ3LfqDwmvOqODo9hfGeAHa8VUzJn2/eZ3tW80Jyj+pBZM3qAKKqGS2PeF7STcJkrqrb3G6pfXFmzhgHnKaqg1V1a2rDS40NHy9i1+a9Q2/1q+58//wMAL5/fgYH90s4S1NaKfl4Ibsr3dP2r39g+9KVAUXkj7JPvyCyecte27Z+8BlEnK/DZZ8tJrdl8yBCq7Uw3hNA+YLP0S1b9tlecOV1bBv7GBnRxzCDW7MkrGYRkXbuajkwr/J2Vf0+NaHVrbzCxuxYuxmAHWs3k9e8cbABGU+anteXkn9XOzJoxgnTPdXrdSzR9euJfLs06FC8CXmd+es4f1Jjx2FRoBA4CKiyU5GIHA60BmbGluJFpJ+XUcCMqU7hNYOgPELJK9ODDsU3obqnvDzyB19I6a03BR2Jd2lY4vbKSzXLL1S1i/vzF8AZwIfAVuCGqo4TkeuBV4BhwAIROStmd5VD58ZOxTS1bInH20jeznUl1D+oCQD1D2rCzvVp/JDG0OSck2l0ck+W/+7eoEPxTdjuKbtVa7JbtqLJI2NpOm4yWc0LafLQE0jTZkGHViWNqucl3XieaUhEOgC3Ar2AfwDXq+ruag65AuiuqlvdSU1fEJH2qjqaakZbjJ2K6aWWF9TZ/7FVU+fQbtDxfDXmNdoNOp5Vb86uq0ubGmp4QjeaX3ku3w4Zge7YGXQ4vgjjPUWWfcPGIWfved103GQ2X39lerdmScMHm15JTGvD+G8Q6YyTxDvhjGv+nKomvGMR+VJVj4h53RB4AfgSOFlVuyY6R6qS+dGPXkfhsT+nXrNG7FxXwpf3vMiqKbPoWXQ9DVo3p+yH9cy8YjS7N6emaVhzqvsbWDuHPzqcxsd2IrdZI3avK+G7e55n9+at/HTUb8k98ADKS7exdcGyfVq8+KVZg+0pOW+b0TdT0OsX5DQ9gPL1m1k7eiLNrzqPrHq5lLsPEbfPXczKPz+ckuunQtD31LLjvg8p/dDoj7eT26UrckBjops3UvbM0+yc+sae/alO5s2L30t6SO4t1/T3nHMaPVKcVkOAe0nmEWA5Tt35PklcVa+v4rh3gN+r6tyYbTnAU8BvvAzgVZcl87qUimQetFQlc+O/VCXzoPmSzK/q5z2ZPzYlrZK5l2qW39by3BfhtIDZQ1XLgYtE5PFantMYY1ImUeG2JkTkKWAgsFZVO7vb/oJTBb3OfdstqvpGnGP7AaNxGpg8qap/T3Q9L0Pgjq8i0Po4D0OrOi7uZKXuvg8TXdcYY+qcvw82xwFjgAmVtt+vqlU+5RaRbOBhnL49K4BPReRVVf2yuot56QG610VEpL+ITAC+A86vyfHGGJPWfOw0pKrvAxtrEUVPYImqfqOqu4DJwFkJjvGWzEXkBBF5DFgGXA6cBhyqqufWIlBjjElLWh71vMQ2o3aXoR4vc52IfC4iT4lI0zj7W+M8p6ywwt1WLS+TU6wA/o7TtvwIVf01sF1Vy7zFbYwxGSLqfVHVIlXtEbMUebjCo8BPgK7AKpxm3pXFe7Ca8KuAl5L5izh/Fc4HzhCRAi8nNsaYTJPqTkOqukZVI6oaBZ7AqVKpbAXQNuZ1GyDhIEteeoAOB9oD9wF9gK+AQhEZ5LYdN8aYcEjxQFsi0irm5X8BC+K87VOgg4gcKiL1gMHAq4nO7akHqDuO+TvAOyKSC/QDhgCPAJk3vJsxxsTj4zhbIvIccBLQ3K2uHgmcJCJdcWo3lgFXuu89GKcJ4gBVLReR64A3cZomPqWqXyS6nufu/BVUdbeIfAD8G6hf0+ONMSZd+Tnmijt0eGVjq3jvSmBAzOs3gH3an1fHywPQ293RDxGRPBF5F1gKrAF61+RixhiTzrRcPS/pxssD0POBxe76xe7PQuBEqhn90BhjMk4NWrOkGy/VLLti5v78FTDZHWhroTvWijHGhEIGz03hqWS+U0Q6i0ghTmuWqTH7GqQmLGOMCUDIS+Y34AxdW4gzpsC3ACIyAPgsdaEZY0zdyuSSuZeBtj4GDo+zvcZPW40xJp1peeL3pCsvrVnOEJFDYl7fLiLzRORVETk0teEZY0zd0aj3Jd14qTMfhTv2rogMBP4bZ4zzV4HHUheaMcbUrUxO5l7qzDVmUK1zgLGqOhuYLSLXpC40eCJ3UypPH5gDs/KDDsF3k1eE8/HJ4Fa9gg7BdxsWhLPdQrEfJ9G0mjyoRryUzEVEGopIFnAKMC1mn/UANcaERthL5g8Ac4FSYKGqzgIQkaNwhnA0xphQ0Gjmlsy9tGZ5SkTeBA4C5sXsWg1cmqrAjDGmrkUjIU7mItIt5mVXkX1u9ntfIzLGmICkY/WJV16qWeLNhFFBgZN9isUYYwIV9mqWPlXtc8c2N8aYUND0GwzRM08TOscSx8ki8iTO9EbGGBMKGhXPS7rxnMxFpJeIjAa+w+kwNIM43fyNMSZTRSPieUk3XrrzjxKRr3HGLp8PHAWsU9XxqhrOXj3GmP2SnyVzEXlKRNaKyIKYbfeIyCIR+VxEXhaRJlUcu0xE5ovIXBGZ5SV2LyXzoTizCj0KPKuqG3AefBpjTKioiufFg3E48yXHegvorKpdgK+AP1VzfB9V7aqqPbxczEsyb4kzPsuZwBIReQbIt4kpjDFh42cPUFV9H9hYadtU1T1jM34MtPEr9oTJXFUjqlqsqhcBPwVeAT4CfhCRSX4FYowxQYuqeF5EZKiIzIpZhtbwcr+l6iFlFJgqIrO9nrdGpWtV3YEzUcULItIIZ+AtY4wJBY/VJ+57tQgoqs11RORWoByYWMVbeqvqShE5CHhLRBa5Jf0qeekBelE1u63u3BgTGnXRSkVELgYGAqfEzK+8F1Vd6f5cKyIvAz2B5JI5cHS8eIAzgNbABA/nMMaYtJfq9uMi0g/4I3BizNDild9TAGSp6hZ3/TTgzkTn9tIDdFjMRQT4jRvMxzgPRo0xJhSiPo5nLiLPAScBzUVkBTASp/VKHk7VCcDHqnqViBwMPKmqA4AWwMvu/hxgkqpOSXQ9T3XmbsuVS4AbgZnAuaq6uGa3Zowx6a0mdeaJz6VD4mweW8V7VwID3PVvgCNrej0vdebXAsNxJqXop6rf1fQi6W7cR+Mo21ZGNBIlEokw/PThQYeUtAYHNODyu66lzc/aosATN49hyZyvgg4rKU8U/YPTB5zK2nXr6XrUKUGH45swflaQmb9XmTw2i5eS+UPAWuA44LWYIXAFZ0q5LimKrU6NGDSC0k2lQYfhmwtHXsbn733Gg1ffQ3ZuDnn59YIOKWkTJjzPI488zdNPjw46FF+F8bOqkGm/V35Ws9Q1L8n80JRHYXyV3zCfjr2O4PEbHwIgsrucst3lCY5KfzM+mMkhh/jWxyIthPWzylTRNBxAyysvD0BrXa0iIj2dU+inInIETtfWRar6Rm3PmQqqyqiJo1BViicWUzzJl6lhA1PYrgVbNpQy9N7raHdEe5bN/4Zn/jKWndt3Bh2aqSTMn1Um/l6FumQuIt+yd3tyiXmtqvqTKo4bCfQHckTkLaAXMB0YISJHqWrcljBub6ehAJ2adKJtw7Yeb6X2bjznRjau2UjjAxvzt0l/Y/nS5SyYuSDxgWkqOzub9p0PY8LIJ1k692suHPlbzrjmHF74x3NBh2YqCfNnlYm/V34+AK1rXsZm6YHT1rxi6Ykz+5DgTPRclXOB3sAJwLXA2ap6J/Ar4PyqDlLVIlXtoao96iKRA2xc4wyfULKhhI+mfETHrh3r5LqpsnH1Bjau2sDSuV8D8Mkb/6F958MCjsrEE+bPKhN/r2rSnT/deBmbZYM7UuImnF5L7wLHAKer6q+rObTcHdelDFiqqqXu+bYDaTPTXl5+HvkF+XvWu53QjWWLlwUbVJJK1m1m46r1tDrsYAA69e7CD18vDzgqE09YP6tM/b3SGizpxks1Sy7OgDC/Az4AzlLVpR7OvUtEGrjJvHvM+RqTRsm8aWFTbnviNsD5yjv9lenMnj474KiSN37kk1w9+gZycnNY+/0aim4aE3RISXv2mYc58YRjaN68Gcu+mcUdd97L0+MmBx1W0sL4WWXq71UkWuPJ19KGVDE0wI9vcHoulQMPAN9X3q+qL1VxXJ6q7vMUR0SaA61UdX6i4Pq37Z+OfwCTdmBWftAh+G7yqplBh5ASg1v1CjoE322Ibg86hJQoXl6cdN3HjJbnes45x69+Ia3qWrw0TXwb51vFkezbK0mBuMk8XiJ3t68H1tcgRmOMqRNKWuXnGvHSNPGSOojDGGMCF83gugCvY7N0Bm4GOuGUxr8E7vVSVWKMMZkimsElcy8TOp8FvAy8h/Mg9HJ3/SV3nzHGhIIinpd046VkfifQV1WXxWybJyLv4Ewh90oqAjPGmLoWScMk7ZWXZJ5bKZEDoKrL3GaLxhgTCmnTZroWvDSq3C0i7SpvFJFDcJosGmNMKERrsKQbL8l8JPC2iFwiIr8Qkc4icikwFbg9teEZY0zd8bPOXESeEpG1IrIgZlszEXlLRL52fzat4th+IrJYRJaIyAgvsXvpzv8v4DzgZGAczpyffYBB7j5jjAmFqHhfPBiHM1JsrBHANFXtgDPhzz6JWkSygYdxBio8AhjijjpbLS/d+esDK1X1okrbDxKR+qq6I9E5jDEmE/jZNFFV3xeR9pU2n4UzLyjAeJyRZP9Y6T09gSXu9HGIyGT3uC+ru56XapYHgePjbO8L3O/heGOMyQiRGiy11EJVVwG4Pw+K857WQOxoayvcbdXyksyPizf+iqpOxBne1hhjQiEq4nkRkaEiMitmGepTGPG+HiTsm+qlaWJ13zsyd4gxY4yppCa9+VW1CCiq4SXWiEgrVV0lIq1w5leubAUQO5lDG2BlohN7ScZr3enf9iIiRwPrPBxvjDEZoQ6aJr4KXOyuX0z8TpefAh1E5FARqQcMdo+rlpeS+c3A8yIyDqgYkLgHcJF7EWOMCQU/53MWkedwHnY2d4cSHwn8HSefXoYzpPh57nsPBp5U1QGqWi4i1wFvAtnAU6r6RaLreRk18RO3ZH4tcIm7+Qugl6rG+4pgjDEZyc/u/Ko6pIpdp8R570pgQMzrN4AaTXzvadREN2mPrO49IvJigmnkjDEmrflZMq9rnpK5R77PQrtkRzgL/gc2OCToEHzXpH5B0CEYk7R07KbvlZ/JPIOHdTfGmMxOYn4mc2OMyWhWzeLI4P8Nxhhj1SwVKo8vYIwxGSWSwUVSLwNtzWfvqiQF1gPv4swDugNAVaemJEJjjKkjYS+ZD4yzrRlO76WHgCt8jcgYYwIS6mSuqt/F2fwd8JmIfOZ/SMYYE4z9uTWLDbRljAmNULdmEZFucTY3Bf4beN/3iIwxJiChrmYB/lHptQIbcGbIqOnwj8YYk7aSmHQicF7qzPtUtU9EWgBrfI3IGGMCEupqlspEpDHwa+AC4Od4mM7IGGMyQdirWRCRfOBMnATeDWgEnI3VmRtjQiSTW7MkbI0iIhOBr4DTgDFAe2CTqk5X1Uz+Q2aMMXuJop6XdOOlZN4Z2AQsBBapakRE0u9OjDEmSZn8ADRhyVxVjwQGAQcAb4vIDKCRiLRMdXDGGFOX/JoDVEQ6isjcmKVURG6o9J6TRKQk5j23JxO715mGFgG3A7eLSA9gCPCJiKxQ1WOTCSBI9fLqMenVJ6hXrx45OdlMeW0aD979eNBh+aLBAQ24/K5rafOztijwxM1jWDLnq6DDSsrBrVvyyON3c1CLQqLRKBPG/ZOiRycEHVbSwvhZAYz7aBxl28qIRqJEIhGGnz486JAS8qs1i6ouBroCiEg28APwcpy3zlDVeEOm1FiNW7Oo6ixglojcBJzgRxBB2bVzFxedcxVl27aTk5PD5H+P5f1pHzJ39oKgQ0vahSMv4/P3PuPBq+8hOzeHvPx6QYeUtEh5hNtv/Tufz/uShg0LmPb+S0x/50O+Wrw06NCSEsbPqsKIQSMo3VQadBiepagu/BRgaRVDo/jGywPQ52PW76pYV1UFbk1RXHWmbNt2AHJyc8jJzUFD8DQgv2E+HXsdwfTJbwMQ2V1OWWlZwFElb82adXw+70sAtm7dxleLl9Lq4BYBR5WcsH5WmUprsIjIUBGZFbMMreK0g4Hnqth3jIjME5FiEemUTOxeSuYdYtb7sve45YXJXDwdZGVl8a9pz9Lu0LZMHPs88+Zkfqm8sF0LtmwoZei919HuiPYsm/8Nz/xlLDu37ww6NN+0bdeaX3Q5gtmz5gUdSlLC/FmpKqMmjkJVKZ5YTPGk4qBDSqgmzfNUtYgEveBFpB5Os+4/xdk9BzhEVbeKyADgX+ydb2vEy0BZ1ZVVa1SOFZG0q+CMRqOc2ecCju/Sny7dOtPh8J8EHVLSsrOzad/5MKY9+yZ/HnATO8t2cMY15wQdlm8KChow7pmHuHXE39i6ZVvQ4SQlzJ/VjefcyLABw7jtotsYePFAOvfqHHRICUVQz4tH/YE5qrpPT3lVLVXVre76G0CuiDSvbexeknkDETlKRLoD+e56t4rXVR0kIq9WWl4Dzql4Xc1xe766lOxYX/M7qqUtpVuZ+eEsTjg5Y5/n7rFx9QY2rtrA0rlfA/DJG/+hfefDAo7KHzk5OTz97EO88PxrvP5a5s+HEubPauOajQCUbCjhoykf0bFrx4AjSsyv1iwxhlBFFYuItBQRcdd74uTjDbWN3Us1y2rgvjjrFa+r0gb4EngSt4oJ6MG+A3ftJfarS4fC7imtwW52YBN27y5nS+lW8urnceyJvXjiwfGpvGSdKFm3mY2r1tPqsINZ9c1KOvXuwg9fLw86LF+MfvhvfLV4KY8+/HTQofgirJ9VXn4eWVlZbN+2nbz8PLqd0I1JoycFHVZCfj4AFZEGOFXTV8ZsuwpAVR8DzgWuFpFyYDsw2H0WWSteknlfVd1di3P3AIbjPCS9WVXnish2VX2vFudKicIWzbl7zB1kZWWTlSUUv/I27741I+iwfDF+5JNcPfoGcnJzWPv9GopuGhN0SEnr9cvunD/kbL5YsIh3P3gFgFF33sfbU9Pmn1SthPGzalrYlNueuA1wqpKmvzKd2dNnBxxVYn6WHlW1DDiw0rbHYtbH4PSq94Uk+kMgImuBV4BJwPSa/uUQkTbA/TijK56pqu28HpvqknlQejU4JOgQfDdlU+Y/OI6nX9P0r+etqQ3R7UGHkBLFy4uTbiU+vP1gzzln9LLJaTXGopc6858Ds3A6DS0XkQdEpJfXC6jqClU9DygGnq1dmMYYk3opeABaZ7x059+gqo+745r3BL4FHhCRpSIyyuuFVPV1Vb0liViNMSalMnmgrRrN4amqK4GxwKPAFuDyVARljDFBqEmnoXTjKZmLSH0ROU9EXgKW4nRP/RNwcCqDM8aYupTJJXMvEzpPAk7FmYhiEnCBqu5IdWDGGFPXMnmCBi9NE98ErlTVLakOxhhjgqRpWOL2yksybw5c4XZU2oeq3hd3hzHGZJh0bKXilZdk3jDlURhjTBoIdTWLqt5RF4EYY0zQohk8BraXB6DVTWWkqvo/PsZjjDGBydxU7q2aJd4YowXAZTjjDlgyN8aEQjo2OfTKSzXLnlEORaQRzuBZlwKTSTACojHGZJKwt2ZBRJoBvwd+A4wHuqnqplQGZowxda08zMlcRO4BzsEZY/wXFTNjGGNM2GRyydxLd/4bcbrt/xlYKSKl7rJFRDJn2m1jjEkgBTMN1RkvdeY1GozLGGMyVRIT/QTOU525McbsD3yeNm4ZzuiyEaBcVXtU2i/AaGAAUAZcoqpzanu9tE7m35ZUN8WoSSdN8xoFHUJKTF41M+gQfNe3RZegQ0hbKejO30dVq5qZvj/QwV164Qwt7nnin8rSOpkbY0xdquN25mcBE9ypOD8WkSYi0kpVV9XmZFYfbowxLlX1vIjIUBGZFbMMrXw6YKqIzI6zD6A1sDzm9Qp3W61YydwYY1w1aaWiqkU4Tbar0ltVV4rIQcBbIrJIVd+P2R9vKNpafzWwkrkxxri0Bv8lPJczzSaquhZ4GWcO5VgrgLYxr9sAK2sbuyVzY4xx+TVtnIgUuMOfICIFwGnAgkpvexW4SBy/BEpqW18OVs1ijDF7RNS37kAtgJfdSX1ygEmqOkVErgJQ1ceAN3CaJS7BaZp4aTIXtGRujDEuv7rzq+o3wJFxtj8Ws67Atb5cEEvmxhizR6gnpzDGmP1F5qZyS+bGGLNHqCenMMaY/YUlc2OMCQEfW7PUOUvmxhjjyuTJKSyZG2OMy8YzN8aYELA6c2OMCQErmRtjTAhE0nJ2T2/2+2T+RNE/OH3Aqaxdt56uR50SdDi+qJdXj0mvPkG9evXIyclmymvTePDux4MOK2lhva8w/hsEGPfROMq2lRGNRIlEIgw/fXjQISVkPUAz2IQJz/PII0/z9NOjgw7FN7t27uKic66ibNt2cnJymPzvsbw/7UPmzq48aFtmCet9hfHfYIURg0ZQuqk06DA8y+TWLPv9ELgzPpjJxk2bgw7Dd2XbtgOQk5tDTm4OGVzg2EsY7yus/wYzUVTV85Ju6qxkLiLH4QzOvkBVp9bVdfdXWVlZ/Gvas7Q7tC0Txz7PvDmZXXqtENb7CiNVZdTEUagqxROLKZ5UHHRICVnJPA4R+SRm/QpgDNAIGCkiI6o5bs+8etHotlSFF3rRaJQz+1zA8V3606VbZzoc/pOgQ/JFWO8rjG4850aGDRjGbRfdxsCLB9K5V+egQ0ook0vmqaxmyY1ZHwr0VdU7cGbc+E1VB6lqkar2UNUeWVkFKQxv/7CldCszP5zFCScfG3QovgrrfYXJxjUbASjZUMJHUz6iY9eOAUeUWESjnpd0k8pkniUiTUXkQEBUdR2Aqm4DylN43f1eswOb0OiAhgDk1c/j2BN78c3Xy4INygdhva8wysvPI78gf896txO6sWzxsmCD8sDPOUDrWirrzBsDs3FmoFYRaamqq0WkIfFnpQ7Es888zIknHEPz5s1Y9s0s7rjzXp4eNznosJJS2KI5d4+5g6ysbLKyhOJX3ubdt2YEHVbSwnpfYfw32LSwKbc9cRsA2dnZTH9lOrOnzw44qsTUpxK3iLQFJgAtgShQpKqjK73nJOAV4Ft300uqemetr1nXPZ5EpAHQQlW/TfTenHqt0+/Pnw8Obdwy6BCMR9+WrA46BN/1bdEl6BBSonh5cdKFxEMO7OI553y34fMqrycirYBWqjrHndh5NnC2qn4Z856TgJtUdWDtI/5RnbczV9UyfvxLZIwxacOvwq2qrgJWuetbRGQh0Br4stoDk7DftzM3xpgKUdTzEtvyzl2GxjuniLQHjgJmxtl9jIjME5FiEemUTOz7fQ9QY4ypEIl6rzNX1SKgqLr3uM8IXwRuUNXKXWHnAIeo6lYRGQD8C+hQo4BjWMncGGNcfrZmEZFcnEQ+UVVf2udaqqWqutVdfwPIFZHmtY3dSubGGOPyq85cRAQYCyxU1fuqeE9LYI2qqoj0xClcb6jtNS2ZG2OMy8fJKXoDFwLzRWSuu+0WoB2Aqj4GnAtcLSLlwHZgsCbx18SSuTHGuHxszfIBCfrTqOoYnGFOfGHJ3BhjXDV5AJpuLJkbY4zL5gA1xpgQsDlAjTEmBNJxaFuvLJkbY4wrHUdD9MqSuTHGuKxkbowxIRBNw0knvLJkbowxLnsAaowxIWDJ3BhjQiBzU3kAMw2lKxEZ6g5pGRphvCew+8okYbyndGVD4P4o7sDyGS6M9wR2X5kkjPeUliyZG2NMCFgyN8aYELBk/qMw1uuF8Z7A7iuThPGe0pI9ADXGmBCwkrkxxoSAJXNjjAmB/T6Zi8hTIrJWRBYEHYtfRKStiLwrIgtF5AsRGR50TH4Qkfoi8omIzHPv646gY/KLiGSLyGci8u+gY/GLiCwTkfkiMldEZgUdT9jt93XmInICsBWYoKqdg47HDyLSCmilqnNEpBEwGzhbVb8MOLSkuDOeF6jqVhHJBT4AhqvqxwGHljQR+T3QAzhAVQcGHY8fRGQZ0ENV1wcdy/5gvy+Zq+r7wMag4/CTqq5S1Tnu+hZgIdA62KiSp46t7stcd8n40oiItAFOB54MOhaTufb7ZB52ItIeOAqYGXAovnCrI+YCa4G3VDUM9/UA8Acgc8dfjU+BqSIyW0SsJ2iKWTIPMRFpCLwI3KCqpUHH4wdVjahqV6AN0FNEMrpqTEQGAmtVdXbQsaRAb1XtBvQHrnWrNE2KWDIPKbdO+UVgoqq+FHQ8flPVzcB0oF+wkSStN3CmW788GThZRJ4NNiR/qOpK9+da4GWgZ7ARhZsl8xByHxSOBRaq6n1Bx+MXESkUkSbuej5wKrAo0KCSpKp/UtU2qtoeGAy8o6r/HXBYSRORAvfhOyJSAJwGhKbFWDra75O5iDwH/AfoKCIrROSyoGPyQW/gQpxS3lx3GRB0UD5oBbwrIp8Dn+LUmYemKV/ItAA+EJF5wCfA66o6JeCYQm2/b5pojDFhsN+XzI0xJgwsmRtjTAhYMjfGmBCwZG6MMSFgydwYY0LAkrkJhIhE3CaTC0TktYr24+6+TiLyjoh8JSJfi8htbtt5ROQSERkT53yxI/TNFZEH3e2/FJGZ7raFIvKXurpHY+pSTtABmP3WdrdbPiIyHrgWGOV2BnoVuFpVp4pIA5yerNcADyc4Z584I/SNBwap6jwRyQY6+nkTxqQLK5mbdPAffhzV8QLgQ1WdCqCqZcB1wIhanvsgYJV7rkimDwNsTFUsmZtAuaXlU3BK4wCdcMZf30NVlwINReSABKd7N6aa5XfutvuBxSLysohcKSL1/YzfmHRh1SwmKPnuULbtcZL3W+52oeoxyhN1V96nmkVV7xSRiThjg1wADAFOql3IxqQvK5mboFTUmR8C1MOpMwf4AmfGnT1E5DBgqzvRRo2p6lJVfRTnG8CRInJgraM2Jk1ZMjeBUtUS4HrgJnfY3onAcSJyKuwZHfFB4O7anF9ETq9oCQN0ACLA5mTjNibdWDI3gVPVz4B5wGBV3Q6cBfxZRBYD83FGSIxtjniJO8JlxdLG3R5bZz7B3XYhTp35XOAZ4DeqGqmL+zKmLtmoicYYEwJWMjfGmBCwZG6MMSFgydwYY0LAkrkxxoSAJXNjjAkBS+bGGBMClsyNMSYE/h+DemkECnFLjQAAAABJRU5ErkJggg==\n",
      "text/plain": [
       "<Figure size 432x288 with 2 Axes>"
      ]
     },
     "metadata": {
      "needs_background": "light"
     },
     "output_type": "display_data"
    },
    {
     "data": {
      "image/png": "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\n",
      "text/plain": [
       "<Figure size 432x288 with 2 Axes>"
      ]
     },
     "metadata": {
      "needs_background": "light"
     },
     "output_type": "display_data"
    },
    {
     "data": {
      "image/png": "iVBORw0KGgoAAAANSUhEUgAAAWkAAAEGCAYAAACn2WTBAAAAOXRFWHRTb2Z0d2FyZQBNYXRwbG90bGliIHZlcnNpb24zLjUuMCwgaHR0cHM6Ly9tYXRwbG90bGliLm9yZy8/fFQqAAAACXBIWXMAAAsTAAALEwEAmpwYAAAnJklEQVR4nO3deZgU1dXH8e+ZGYYdBUFAXFCjiZFFFFED8uKGxKhojHvcomJ8jUtcolGjMUZjEmNco+IKicbgFkSJO76ioogKIqAiArLvhkWWmZ7z/lE12g4z0zUz3V3VM79Pnnqmu6qr+tBpz9y5de+55u6IiEgyFcUdgIiI1ExJWkQkwZSkRUQSTElaRCTBlKRFRBKsJO4AajNp26M09CTUe/ItcYeQGGfsdWncISRGayuOO4TEuHfO49bQa5Qt/zxyzmnWcacGv18UiU7SIiJ5VZGKO4LNKEmLiFTyirgj2IyStIhIpQolaRGRxHK1pEVEEixVHncEm1GSFhGppBuHIiIJpu4OEZEE041DEZHk0o1DEZEkU0taRCTBUmVxR7AZJWkRkUrq7hARSTB1d4iIJJha0iIiCaaWtIhIcnmFbhyKiCSXWtLJ1v3mX7DFwX0pX/5fph18IQA7/e1SWuzcDYDidq1JrV7H9EN/GWeYebFx4yZOO+8yNpWVkSpPccgBA/jFWad8ffyhR5/gL3c9wPjnHqP9llvEGGn+DTnzcAadcDDuMP/juQy/7E7KNiavBZYPB55xGANOOAgz443HXuaVB8fGHVLDqE862ZY//ipLHx7Ljrde+PW+z//35q8fb/ubM0itWRdHaHlXWtqMB2+/iVatWlJWXs6p517K/vv2pXeP3Vi0ZBkT3v2Arp23jjvMvGvfuQODz/gRlx90IWUbN3H+XZew7xEDGP/EuLhDy7ttdt2OASccxB+G/ppUWTkXjLiKqa++z9I5i+MOrf4SWGBJC9GmWfvOdMq/XFvj8Q5H9Gfl6PF5jCg+ZkarVi0BKC8vp7y8HLNgSbc/3X4vF//vmVheVnhLnuLiYkpblFJUXERpy+asWrIy7pBi0eU73Zj9wUzKNmyiIlXBp+9MZ49D+8UdVsN4RfQtT9SSjqjNPt+nbNmXbJy9KO5Q8iaVSnHczy7giwULOfHHh9Nr9+8xbvzbbN2pI9/bZae4w4vFqiUrGTt8NLdNuJdNGzYxdfwUPho/Je6wYrHwk3kcdemJtN6yDZs2bKLnAXsy98NZcYfVMAnsk46lJW1mZ9RybJiZTTKzSU+tm5PHqGrXYej+TaYVXam4uJgnR9zFK0//nanTP+WTz2YzfORj3+qbbmpatWvNnoP78csB53J+v7No3rI5/Y8eGHdYsVg8awEv3DOai/7xGy4ccRXzZswhlUped0GdpMqjb3kSV3fHdTUdcPfh7t7X3fv+uHX3PIZUi+Ii2v9wP1aOeSPuSGLRrm0b9t6zF+PGT2DBwsUcc9r/MviY01iybDnH/ux8lq9oOn/u9xjQi2XzlrBm5WpS5SkmPf8Ou+z1vbjDis2bo17lhsMv5+bjr+WrL9eytND/0qyoiL7VwsxamNlEM5tiZtPM7Lpwfwcze8nMZoY/22cKKWfdHWb2YU2HgM65et9caLd/bzbMmk/ZohVxh5I3K1d9SUlJCe3atmHDxo28/e4H/Oynx/L6c499/ZrBx5zGvx64vUmN7lixcDnf6bMrpS1K2bRhE7v378nnUwv8T/wGaLtVO9asWE37bTrSZ8g+/PHoq+IOqUHcs/aXwEbgQHdfa2bNgDfM7D/Aj4FX3P0mM7sCuAK4vLYL5bJPujNwKLCqyn4D3srh+9bbjndeTNv9elDSoR293r2fhX95jOWPvUyHI/dn5b+bVlfHshWruOr3N5OqqMArnEMP3J9B/feJO6zYzZo8k4ljJ/D7524mlapg7rTPGffoi3GHFZtz7r6U1u3bkiov55+/uZ+vVhf46Kcs9Um7uwOVoxCahZsDQ4FB4f4RwGtkSNIWXCv7zOwB4CF336yPwMwedfeTMl1j0rZH5Sa4AtR78i1xh5AYZ+x1adwhJEZrK447hMS4d87jDR5vtH7c/ZFzTqsDzz4HGJa2a7i7D698YmbFwHvAd4C73P1yM/vS3bdMe80qd6+1yyNnLWl3P7OWYxkTtIhI3tWhJR0m5OG1HE8Be5jZlsDTZtajPiFpCJ6ISKUcjNpw9y/N7DVgCLDEzLq6+yIz6woszXS+JrOIiFTK0mQWM+sUtqAxs5bAwcDHwDPAaeHLTgNGZwpJLWkRkUrZm8zSFRgR9ksXAaPc/VkzmwCMMrMzgS+AYzNdSElaRKRS9kZ3fAj0qWb/CuCgulxLSVpEpJKq4ImIJFgep3tHpSQtIlIpgQWWlKRFRCqpu0NEJMHUkhYRSTAlaRGRBMtRLaOGUJIWEalUrtEdIiLJpRuHIiIJpj5pEZEEU5+0iEiCqSVdN917Vl15q+laf9W5cYeQGB9uXB13CInx4+Y7xR1C46IkLSKSXJ7K2kK0WaMkLSJSSS1pEZEE0xA8EZEEq9DoDhGR5FJ3h4hIgiXwxmHG1cLN7Fdpj4+tcuzGXAQlIhKLioroW55kTNLACWmPf13l2JAsxiIiEq8Kj77lSZTuDqvhcXXPRUQKV4GO7vAaHlf3XESkcCVwdEeU7o7eZrbazNYAvcLHlc975jg+EZG88YqKyFttzGw7MxtnZjPMbJqZXRju/62ZLTCzyeF2WKaYMrak3b048r9QRKSQZW90Rzlwibu/b2ZtgffM7KXw2F/d/eaoF8qYpM1sb6Cju/+nyv4jgIXu/l4dAhcRSa4sdXe4+yJgUfh4jZnNALrV51pRujv+DMyoZv+M8JiISONQhyF4ZjbMzCalbcOqu6SZdQf6AO+Eu35hZh+a2YNm1j5TSFGS9FbuPqfqTnf/DNgqwvkiIoWhDkPw3H24u/dN24ZXvZyZtQGeBC5y99XA3cDOwB4ELe2/ZAopyuiOlrUcax3hfBGRwpDFIXhm1owgQT/i7k8BuPuStOP3Ac9muk6UJP2ymd0AXO3+zdoyZnYd8GpdA0+yoo6daHPpVRS17wBewYb/jGHD6CcpHTCIVj89neLtduC/F/2c8pmfxB1qzln7TrQ84zKsXXtwp2z8WDa9+m+aH3kqJb33A3d8zZesf/hm/L8r4w4374qKivjnCw+xdPEyzj/l0rjDyZuhfz6bXQ/sw7oVq/nb4CsA+P5h/Rj0y2Po9J1tuO/Ia1g4dXbMUTZAlvqkzcyAB4AZ7n5L2v6uYX81wNHAR5muFSVJXwLcD3xmZpPDfb2BScBZdYg78TyVYt19d5GaNRNr2ZItb7+Psg8mkZo7mzXX/4Y2F1wSd4j5k0qx4fHhVMz7DJq3pPVVd1I+4302vvgEG58ZCUDpAUNp/qOfsuHR22MONv9OPvs4Zs+cQ+u2TeuPycmPj2fiiJc4+paff71v6afz+dc5t3LEjT+LMbLs8PKsje7oD5wCTE3Lm1cCJ5rZHgRzTOYA52S6UJQheOvCC+8E7B7unubun9c57ITzVStJrQpahb5+PeXz5lK0VSfKPpgUc2T556tX4qvDFvLG9VQsmodt2REWffHNi5q3oCnOZ+rctRMDD+7Pfbc+zCk/PzHucPJq7sSP2XLbjt/at/yzhTFFkwPZG93xBtXPyB5b12tFGYK3ffiwHJhSdb+7f1HdeYWuaOsulOy8C+WfTI87lNjZVp0p3n5nUrM/BqD50NNptu/B+Pp1fHXLrzKc3fj86vqLuOX6O2ndplXcoUi2Fei08OcImkvpvxUc6ARsDdQ42cXMvkcwNvAdd1+btn+Iuz9fr4jzoUVL2l39O9bdewf+1VdxRxOv5i1odc5v2DDqHtgQfBYbRz/MxtEPUzrkeEoPOJKNY/4ec5D5M/CQ/qxcvooZH35C3x/0iTscybZCnBbu7j3dvVf4sydwBPAmsBa4qKbzzOwCYDRwPvCRmQ1NO1xjidP0sYcj5y2q6WW5U1xMu6t/x4ZxL7PprfH5f/8kKSqm1Tm/oWziq5R/8OZmh8smjqOkz4AYAovPHnv3YtDg/fnPu0/xp3uup1//vbjxzmvjDkuyxCs88pYvkYv+m9kuwFXAPgRj+y5w97JaTjkb2Mvd14aDuZ8ws+7ufhu1VM8LxxoOB1j+w//J+6+1NhddTmreXDY8PSrfb504LU69mNTieWx6+amv9xVtvQ0VS4M+yJLe+1KxeF5c4cXi9hvv5vYb7wag7w/6cNq5J3PlL66LOSrJmuzdOMyaKH3SPQiS8+7An4Az3T3Kv6S4sovD3eeY2SCCRL0DCS1xWrJ7T1ocfCjls2ex5Z33A7BuxH1Ys1Jan3sBRVtsSbvrbqL8889YffVlMUebW8U7707pfgeTmv85JVf/DYCN/36IZv2HUNR5W/AKKlYuZcMjTW9kR1N2zO3n0X2/3WjVvi0Xv30H4/76BOu/XMdh151Gqw5tOemhy1g8fS7/OPWPcYdaPwns7rC0oc/Vv8AsBcwj6JveLDm7+wU1nPcqcLG7T07bVwI8CJwcpXBTHC3ppCrdvkXcISTGgNGr4w4hMX7cfKe4Q0iM3859pMGNvzU/HxI557S95/m8NDajdHfUd/DjqQQjQr7m7uXAqWZ2bz2vKSKSM5karXGIMk56RHX7zawFwU3Ems6bX8uxze9CiYjELYHdHVEKLH3NzIrN7IdmNhKYCxyfm7BERGJQoGscYmYDgZOAHwETCaY87ujuTXwQsYg0Jl5egJNZzGw+8AVBib3LwgLWs5WgRaTRSV6OjtTd8STBrMHjgSPMrDVNsWCDiDR6SZzMEmXG4YVAd+AW4ADgU6CTmR0XFrQWEWkcEtgnHenGoQdedfezCRL2ScBRBKX2REQah4o6bHkSeVp4JXcvM7M3CFYU0AwLEWk08tmNEVXGlrSZXRNWs8PMmpvZOGAWsIRglIeISKPg5R55y5co3R3HA5XrRZ0W/uwE/A+1VLMTESk4BdrdsSltbcNDgcfCAkszwlocIiKNQgJr/kdqSW80sx5m1olgdMeLace0NIWINB4F2pK+CHiCoIvjr+4+G8DMDgM+yF1oIiL5lcSWdJQCS28D36tm/1jqsaiiiEhSeXnm1+RblNEdR4SF+iufX2NmU8zsGTPbMbfhiYjkj1dE3/IlSp/0DcAyADM7HPgpQY3pZ4B7cheaiEh+JTFJR+mT9rRiSj8GHnD394D3zOx/cxcanDmtbS4vX1DaTi+NO4TE2LG0WdwhJMbNy96KO4TE+G02LuLZWWzFzLYDRgJdCG4zDnf328ysA/Avgpnbc4Dj3H1VbdeK0pI2M2tjZkXAQcAracc041BEGo0stqTLgUvcfTdgX+A8M/s+cAXwirvvQpBLr8h0oSgt6VuBycBqYIa7TwIwsz7Aogjni4gUBK/ITkva3RcR5sewvPMMgmqiQ4FB4ctGAK8Bl9d2rSijOx40sxeArYEpaYcWA2fUMXYRkcSqSEVP0mY2DBiWtmu4uw+v5nXdgT7AO0DnMIHj7ovMbOtM7xOl6P+eaU/3MNvsH/FFpmuIiBSCutwQDBPyZkk5XVjO+UngIndfXU3+zChKd8dfajnmwIF1flcRkQTKVncHgJk1I0jQj7j7U+HuJWbWNWxFdwWWZrpOlO6OAzIEISLSKHiWittZ0GR+gOA+3i1ph54hKFR3U/hzdKZr1blAUvjmBxAU/j8C6FzXa4iIJFEWW9L9gVOAqWY2Odx3JUFyHmVmZxJ0FR+b6UKRk7SZ7UOQmI8GOgDnAZfVKWwRkQSry43D2rj7G0BNFzuoLteKMi38BjObSVA7eirBXcpl7j4i0yBsEZFC4hUWecuXKC3pYQRF/+8GnnX3DWaWvDVmREQayLM04zCboiTpLsBg4ETg1nD5rJZmVuKexJpRIiL1U6ilSlPAf4D/mFkL4HCCYv8LzOwVdz8pxzGKiORFRYG2pL/m7hsIFgB4wszaEhRcEhFpFAqyu8PMTq3lsPqmRaTRyNbojmyK0pLeu5p9RjBGuhtBOT4RkYKXz1EbUUXpkz6/8nE4keVkgqpNbxMsCCAi0igUbJ+0mZUApwOXEFRy+om7f5LDuERE8q5Q+6TPAy4kKFA9xN3n5jyqBOi2UzcuveubMq9dtu/Co7f8gzEPPBNjVPEZcubhDDrhYNxh/sdzGX7ZnZRtLIs7rLzT9+Ibf7vnj/xwyIEsW7aCfnsPiTucrMhW7Y5sitKSvoOgUtMAYExaqT0jWFqrV45ii9WCzxfwyx9eAEBRUREPThzB289PiDmqeLTv3IHBZ/yIyw+6kLKNmzj/rkvY94gBjH9iXNyh5Z2+F9945O9Pcu89I7nvvtoKZRaWQu3uaPIrgvfq35vFXyxi2YJlcYcSm+LiYkpblJIqL6e0ZXNWLVkZd0ixa+rfizffnMj223eLO4ysqijQG4f17t4ws37BJfzdcH2vIcDH7j62vteMw/5HDuT10a/HHUZsVi1Zydjho7ltwr1s2rCJqeOn8NH4KZlPbOSa+veiMUpiSzpKgaXZZvZ52pb+fFYt510L3A7cbWZ/AO4E2gBXmNlVtZw3zMwmmdmkOWvjX/SlpFkJ/Q7px5vPvRF3KLFp1a41ew7uxy8HnMv5/c6iecvm9D96YNxhxUrfi8bJ3SJv+RKlu6NvledFwHHApcAHtZz3E2APoDnBeojbhsvH/JlghEi1w/fSl6QZuv3hsXfj7zloL2Z9NIv/Lv8y7lBi02NAL5bNW8KalasBmPT8O+yy1/d48+mm24rU96JxKsiWtLuvcPcVwCqCuh3jgP2AH7n7MbWcWu7uKXf/Cpjl7qvD660HEljGpHoDh/4P45v4n7QrFi7nO312pbRFKQC79+/Jgs/mxxxVvPS9aJy8Dlu+ROnuaGZm5wDTgf2Boe7+U3efnuHUTWbWKny8V9r1tqBAknRpi+b03n8PJjz/VtyhxGrW5JlMHDuB3z93M3948VasyBj36ItxhxUbfS8CDz18G6++9hS77LoTn8x8i1NPOy7ukBosVVEUecsX8wwDA81sPlAO3Eo1K4OnLbBY9bzm7r6xmv0dga7uPjVTcEno7kiKtlYadwiJscY3xR1CYryyfFrcISTG2q9mN7ivYnyXn0TOOfsvfiIvfSNR+qRfJmjd9w63dA5Um6SrS9Dh/uXA8jrEKCKSF17jilfxiTIE7/Q8xCEiEruKBP7tHrV2Rw+CRWd3J2g9TwdujtJlISJSKCoS2JKOcuNwKPA08H/Az4CzwsdPhcdERBoFxyJv+RKlJf074BB3n5O2b4qZvQqMDjcRkYKXKsSWNNCsSoIGINzXLNsBiYjEpaIOWyZm9qCZLTWzj9L2/dbMFpjZ5HA7LNN1oiTpMjPbvpoAdiAYmici0ihkM0kDDxPUK6rqr+6+R7hlrGMUpbvjWuBlM7sReI/gxuHewBUEK7SIiDQK2exrdvfXzax7Q68TZQjev81sNsGqLOcT1JH+CDjO3VUKTUQajbpUKjWzYcCwtF3Dw9pDmfwiXOB7EnCJu6+q7cVRVmZpASx091Or7N/azFq4+4YIQYmIJF5dhuClF4Org7uB6wl6JK4H/kIwaq5GUfqkbyeo2VHVIcBf6xigiEhipeqw1Ye7LwkLz1UA9wH9Mp0TJUkPqK4+h7s/AjTtosIi0qhUmEXe6sPMuqY9PZqg67hWUW4c1hZN/kpBiYjkWDZnhZvZP4FBQMewUN21wCAz2yN8qznAOZmuEyVJLzWzfu4+sUoAewNNc3E3EWmUsllD2d1PrGb3A3W9TpQkfRkwysweJhiCB8FqLacCJ9T1DUVEkiqB69BGGoI3MVxQ9jzg9HD3NGAfd1+aw9hERPIqidPCI1XBC5PxtbW9xsyezLCclohIohVkS7oOdsritQB4bnFt69w2LTN3+37cISRGz5mfxR1CYrQpbRF3CI1KEtf1y2aSTmC5bBGR6JKYxLKZpEVEClpj7+5I4D9PRCS6xt7doYp4IlLQUglsakYpsDSVb3fVOMFq3+MI1jncAODuL+YkQhGRPCnUlvTh1ezrAJwG3AGcndWIRERiUpBJ2t3nVrN7LvCBmWmMnIg0Go1xdIcKLIlIo1GQozvMbM9qdrcHfgq8nvWIRERiUpDdHQQrB6RzYAXwGnVflUBEJLHqW8w/l6L0SR9Q0zEz6wwsyWpEIiIxKcjujqrMbAvgGOAkYDegW7aDEhGJQ6F2d2BmLYEjCRLznkBb4CjUJy0ijUgSR3dkHJ1hZo8AnwKDgTuB7sAqd38tXExRRKRRqMAjb/kSpSXdA1gFzAA+dveUmSXxF46ISIMk8cZhxpa0u/cGjgPaAS+b2XigrZl1yXVwIiL5VFGHLV8iTUZx94/d/Rp3/y7wS2AkMNHM3sppdDE7dPAgpn30Oh9Pf4NfXXZe3OHkVcfrLmH7caPo9uQ3oyxLd92JriNvo9sTw+l8+++w1q1ijDAef7vnj8ye8y4T330+7lBit023Ljw55mFef+dZ/m/CGM76+Slxh9RgFRZ9y5c6zxh090nufgmwA/Dr7IeUDEVFRdx+2w0cfsRP6dn7AI4//ih2222XuMPKm7WjX2TxuVd+a1/Hay9m1W0PsOAnw1j36ptscfqxMUUXn0f+/iRHHXV63GEkQnl5it9e/ScG7nM4hx1yPGecdRK7fnfnuMNqkCT2SUe5cTgq7fEfKx+7uwNX5Siu2PXbuw+zZs1h9uwvKCsrY9So0Rx5xKFxh5U3G96fSsXqNd/a16z7tmx470MA1k94n9YH7R9HaLF6882JrFr5ZdxhJMLSJcuYOmU6AOvWfsXMT2fRpWvnmKNqGK/Dli9RWtLpzcdDqhzrlMVYEmWbbl2YN3/h18/nL1jENts07W74TZ/NodWg/QBoPXggJV0a7f/9Ukfbbb8NPXruxvvvTYk7lAbJZp+0mT1oZkvN7KO0fR3M7CUzmxn+bJ/pOlGSdG2/NOr0C8XMRtbl9XEy27zTKfjjoelafu1faHfCULb5510UtWqJl5XHHZIkQKvWrbh/5O1cc+VNrF2zLu5wGiSFR94ieBgYUmXfFcAr7r4L8Er4vFZRhuC1MrM+BAm9ZfjYwq1lTSeZ2TNVdwEHmNmWAO5+ZA3nDQOGAVjxFhQVtY4QYvYtmL+I7bbd5uvn23bryqJFTXsGfNmceSz+efCdKtmhG60G7hNzRBK3kpISHhh5G089PoaxY16KO5wGy+aoDXd/3cy6V9k9FBgUPh5BUAOp1lWtoiTpxcAt1TyufF6TbYHpwP0ELW4D+rJ5waZvcffhhIWbSkq7xdZ0fXfSZL7znR3p3n07FixYzHHHDeWUU5vWCI+qijpsScXKL8GMLc8+mdWPPxt3SBKzv975e2Z++jn33jUi7lCyoi43BNMblKHhYf6qTWd3XwTg7ovMbOtM7xMlSR/i7mURXldVX+BCgpuLl7n7ZDNb7+7/V49r5V0qleLCi65m7HOPUlxUxMMj/sX06Z/GHVbedLrpSlr07UXxlluw3YuPsurukRS1bEm7E4I/gNa98gZr//1CzFHm30MP38b+A/dlq63a88nMt7jh97cycsSozCc2Qv323ZNjTxjK9Gmf8PL4pwD4w+9u5ZWXCrdaRF1ahekNylyyTP2sZrYUGA08CrzmdeyYNbNtgb8SVMs70t23j3punC3ppJm52/fjDiExes78LO4QEqNNaYu4Q0iMxV/OaPDo5Qu7nxA559w257GM7xd2dzzr7j3C558Ag8JWdFeCnPrd2q4R5cbhbsAk4BpgnpndamaROyPdfb67Hwv8B/hH1PNERPItyzcOq/MMwfqwhD9HZzohyrTwFe5+b1hXuh8wG7jVzGaZ2Q1RI3P359z9ysyvFBGJRzYns5jZP4EJwHfNbL6ZnQncBBxiZjMJhjTflOk6daon7e4LzewBgoJLFwNn0YgntIhI05LN/lV3P7GGQwfV5TqRpoWbWQszO9bMngJmhW/ya2Cb2s8UESkcSZwWHmUh2keBgwkK/D8KnOTuG3IdmIhIviWxQH6U7o4XgHPcfU3GV4qIFDBP4NosUZJ0R+Ds6qZJA7j7LdUeEBEpMA0YtZEzUZJ0m5xHISKSAAXZ3eHu1+UjEBGRuFUksIhalBuH19Ry2N39+izGIyISm+Sl6GjdHdXVHmwNnAlsBShJi0ijkM+hdVFF6e74umqdmbUlKJp0BvAYGSraiYgUkkId3YGZdSCYYXgyQQ3UPd19VS4DExHJt/JCTNJm9mfgxwQl+Xq6+9qcRyUiEoMktqSjTAu/hGD699XAQjNbHW5rzGx1bsMTEcmfbK5xmC1R+qQj1fcQESl0SVzHtE5V8EREGrOCHN0Rp+93iLyIS6M3dIluBVTSaiTfaFWizyKbCnVauIhIk6CWtIhIgqlPWkQkwQqywJKISFORxHHSStIiIiH1SYuIJFjKk9fhoSQtIhJSd4eISIIVZNF/EZGmIpsp2szmAGuAFFDu7n3rcx0laRGRUA5uHB7g7ssbcgElaRGRUBJHd6jCnYhIKOUVkTczG2Zmk9K2YVUu58CLZvZeNcciU0taRCRUl9Ed7j6cYDGUmvR394VmtjXwkpl97O6v1zUmtaRFRELuHnmLcK2F4c+lwNNAv/rEpCQtIhKqwCNvtTGz1uHC3ZhZa2Aw8FF9YlJ3h4hIKItV8DoDT5sZBHn2UXd/vj4XUpIWEQmlslQHz90/B3pn41pK0hkUFRXxzxceYuniZZx/yqVxhxMrfRawTbcu3HHPTXTauiNe4fx9xCjuv+fvcYcVi9LmpfxrzAOUlpZSXFLM82Ne5tY/3hN3WA2iGYcF6OSzj2P2zDm0bts67lBip88CystT/PbqPzF1ynRat2nFi689yevj3uLTT2bFHVrebdq4iZOPHsZX69ZTUlLCqOce5LWX32Tye1PjDq3ekli7QzcOa9G5aycGHtyfpx55Ju5QYqfPIrB0yTKmTpkOwLq1XzHz01l06do55qji89W69QCUNCuhpFlJIlc2qYsK98hbvuQtSZvZADO72MwG5+s9G+pX11/ELdffSUUCyxfmmz6LzW23/Tb06Lkb7783Je5QYlNUVMSz4x7j3Rmv8OZrbzPl/XoNYEgMr8P/8iVnSdrMJqY9Phu4E2gLXGtmV9Ry3tezeFZ+tSRX4WU08JD+rFy+ihkffhJbDEmhz2JzrVq34v6Rt3PNlTexds26uMOJTUVFBYcfcAI/6HUovfbswa7f2znukBokiS3pXPZJN0t7PAw4xN2XmdnNwNvATdWdlD6Lp1eX/WL722mPvXsxaPD+DDjoBzRvXkrrNq258c5rufIX18UVUmz0WXxbSUkJD4y8jaceH8PYMS/FHU4irFm9lnfenMTAg37Apx8Xbv98Eov+W676kMxsCjCIoLX+QnqZPjP7wN37ZLpGnEk6Xd8f9OG0c09usiMa0iXhs1i64cvY3hvgjntuYtWq/3LNr/8QaxwArUpaxPbeHbZqT1lZGWtWr6V5i+aMfPxv3HvHw7z64vhY4vl8+QfW0Gvs1LFP5JyTjfeLIpct6S2A9wAD3My6uPtiM2sT7hMpOP323ZNjTxjK9Gmf8PL4pwD4w+9u5ZWX6lySoeBt3bkjf77zdxQXF2FFRYwd/VJsCTpbvCm1pGt8Q7NWQGd3n53ptUlpSUuyxN2STpI4W9JJk42W7Q5b9Yqcc+au+LDgW9LVcvevgIwJWkQk35I4hFCTWUREQkks+q8kLSISSlUkr09aSVpEJJTEaeFK0iIiIfVJi4gkmPqkRUQSTC1pEZEE041DEZEEU3eHiEiCqbtDRCTBtHyWiEiCaZy0iEiCqSUtIpJgSVweTgvRioiE3D3ylomZDTGzT8zss9qWDMxELWkRkVC2RneYWTFwF3AIMB9418yecffpdb2WWtIiIiGvw5ZBP+Azd//c3TcBjwFD6xNTolvSHy6ekIhltsxsWLhAbpOnz+Ib+iwCjelzKN+0IHLOMbNhBItsVxqe9jl0A+alHZsP7FOfmNSSjmZY5pc0GfosvqHPItAkPwd3H+7ufdO29F9U1SX7evWlKEmLiGTffGC7tOfbAgvrcyElaRGR7HsX2MXMdjSzUuAE4Jn6XCjRfdIJ0ij627JEn8U39FkE9DlU4e7lZvYL4AWgGHjQ3afV51qWxIIiIiISUHeHiEiCKUmLiCSYknQtsjWts9CZ2YNmttTMPoo7lriZ2XZmNs7MZpjZNDO7MO6Y4mJmLcxsoplNCT+L6+KOqTFSn3QNwmmdn5I2rRM4sT7TOgudmQ0E1gIj3b1H3PHEycy6Al3d/X0zawu8BxzVRL8XBrR297Vm1gx4A7jQ3d+OObRGRS3pmmVtWmehc/fXgZVxx5EE7r7I3d8PH68BZhDMLmtyPLA2fNos3NTqyzIl6ZpVN62zSf7HKNUzs+5AH+CdmEOJjZkVm9lkYCnwkrs32c8iV5Ska5a1aZ3S+JhZG+BJ4CJ3Xx13PHFx95S770Ewo66fmTXp7rBcUJKuWdamdUrjEva/Pgk84u5PxR1PErj7l8BrwJB4I2l8lKRrlrVpndJ4hDfLHgBmuPstcccTJzPrZGZbho9bAgcDH8caVCOkJF0Ddy8HKqd1zgBG1XdaZ6Ezs38CE4Dvmtl8Mzsz7phi1B84BTjQzCaH22FxBxWTrsA4M/uQoFHzkrs/G3NMjY6G4ImIJJha0iIiCaYkLSKSYErSIiIJpiQtIpJgStIiIgmmJC1ZZ2apcGjaR2Y2Jm0sbXczW582dG2ymZ2adl4fM3MzO7TK9XY1s7FhNcIZZjbKzI5Pu8basFrhZDMbaWaDzOzZtPOPMrMPzexjM5tqZkelHXvYzBaYWfPweUczm5Pjj0gkMi2fJbmwPpwqjJmNAM4DbgiPzao8Vo0TCSqpnUgwPh0zawE8B1zs7mPCfQcAy9Le4zXgUnefFD4fVHlBM+sN3Awc4u6zzWxH4CUz+9zdPwxflgJ+BtzdwH+3SNapJS25NoEIhanCmXw/AU4HBofJGeAkYEJlggZw93HuHrW29aXAje4+Ozx3NvAH4LK019wK/NLM1GiRxFGSlpwJa3IfxLen0+9cpbtj/3B/f2C2u88iqAFROYuvB0HN5vravZrzJ4X7K31B0II/pQHvI5ITStKSCy3D8pUrgA7AS2nHZrn7Hmnb+HD/iQQ1uwl/npilWIzNqxdWt+9Ggta1/puQRNEXUnKhsk96B6CUoE+6RmGL+xjgmvCm3R3AD8OVT6YBezUglmlA3yr79gS+tZKKu38GTAaOa8B7iWSdkrTkjLv/F7gAuDQs71mTg4Ep7r6du3d39x0ISoEeBTwK/MDMflT54nDtyZ4Rw7gZ+HVYoL+yUP+VwF+qee0NBH3YIomhJC055e4fAFMISr3C5n3SFxB0bTxd5dQngZPcfT1wOHC+mc00s+kENxeXRnz/ycDlwBgz+xgYA/wq3F/1tdOA9+v4TxTJKVXBExFJMLWkRUQSTElaRCTBlKRFRBJMSVpEJMGUpEVEEkxJWkQkwZSkRUQS7P8B4yjmBnn1uDEAAAAASUVORK5CYII=\n",
      "text/plain": [
       "<Figure size 432x288 with 2 Axes>"
      ]
     },
     "metadata": {
      "needs_background": "light"
     },
     "output_type": "display_data"
    },
    {
     "data": {
      "image/png": "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\n",
      "text/plain": [
       "<Figure size 432x288 with 2 Axes>"
      ]
     },
     "metadata": {
      "needs_background": "light"
     },
     "output_type": "display_data"
    },
    {
     "data": {
      "image/png": "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\n",
      "text/plain": [
       "<Figure size 432x288 with 2 Axes>"
      ]
     },
     "metadata": {
      "needs_background": "light"
     },
     "output_type": "display_data"
    }
   ],
   "source": [
    "for col in df:\n",
    "    plt.figure()\n",
    "    sns.heatmap(pd.crosstab(df['NIVEAU_CONNAISSANCE'], df[col]), annot=True, fmt='d')"
   ]
  },
  {
   "cell_type": "code",
   "execution_count": 27,
   "metadata": {},
   "outputs": [
    {
     "data": {
      "text/plain": [
       "<AxesSubplot:>"
      ]
     },
     "execution_count": 27,
     "metadata": {},
     "output_type": "execute_result"
    },
    {
     "data": {
      "image/png": "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\n",
      "text/plain": [
       "<Figure size 432x288 with 2 Axes>"
      ]
     },
     "metadata": {
      "needs_background": "light"
     },
     "output_type": "display_data"
    }
   ],
   "source": [
    "sns.heatmap(df.corr())"
   ]
  },
  {
   "cell_type": "markdown",
   "metadata": {},
   "source": [
    "# PRETAITEMENT DES DONNEES"
   ]
  },
  {
   "cell_type": "code",
   "execution_count": 26,
   "metadata": {},
   "outputs": [
    {
     "data": {
      "text/html": [
       "<div>\n",
       "<style scoped>\n",
       "    .dataframe tbody tr th:only-of-type {\n",
       "        vertical-align: middle;\n",
       "    }\n",
       "\n",
       "    .dataframe tbody tr th {\n",
       "        vertical-align: top;\n",
       "    }\n",
       "\n",
       "    .dataframe thead th {\n",
       "        text-align: right;\n",
       "    }\n",
       "</style>\n",
       "<table border=\"1\" class=\"dataframe\">\n",
       "  <thead>\n",
       "    <tr style=\"text-align: right;\">\n",
       "      <th></th>\n",
       "      <th>HEREDITE</th>\n",
       "      <th>TRANSMISSION</th>\n",
       "      <th>PREVENTION</th>\n",
       "      <th>DREPANOCYTOSE</th>\n",
       "      <th>ELECTROPHORESE</th>\n",
       "      <th>NIVEAU_CONNAISSANCE</th>\n",
       "    </tr>\n",
       "  </thead>\n",
       "  <tbody>\n",
       "    <tr>\n",
       "      <th>0</th>\n",
       "      <td>NON</td>\n",
       "      <td>OUI</td>\n",
       "      <td>OUI</td>\n",
       "      <td>NON</td>\n",
       "      <td>NON</td>\n",
       "      <td>2</td>\n",
       "    </tr>\n",
       "    <tr>\n",
       "      <th>1</th>\n",
       "      <td>NON</td>\n",
       "      <td>OUI</td>\n",
       "      <td>OUI</td>\n",
       "      <td>NON</td>\n",
       "      <td>NON</td>\n",
       "      <td>2</td>\n",
       "    </tr>\n",
       "    <tr>\n",
       "      <th>2</th>\n",
       "      <td>NON</td>\n",
       "      <td>NON</td>\n",
       "      <td>OUI</td>\n",
       "      <td>NON</td>\n",
       "      <td>NON</td>\n",
       "      <td>2</td>\n",
       "    </tr>\n",
       "    <tr>\n",
       "      <th>3</th>\n",
       "      <td>NON</td>\n",
       "      <td>OUI</td>\n",
       "      <td>OUI</td>\n",
       "      <td>NON</td>\n",
       "      <td>NON</td>\n",
       "      <td>2</td>\n",
       "    </tr>\n",
       "    <tr>\n",
       "      <th>4</th>\n",
       "      <td>OUI</td>\n",
       "      <td>NON</td>\n",
       "      <td>OUI</td>\n",
       "      <td>NON</td>\n",
       "      <td>NON</td>\n",
       "      <td>2</td>\n",
       "    </tr>\n",
       "    <tr>\n",
       "      <th>...</th>\n",
       "      <td>...</td>\n",
       "      <td>...</td>\n",
       "      <td>...</td>\n",
       "      <td>...</td>\n",
       "      <td>...</td>\n",
       "      <td>...</td>\n",
       "    </tr>\n",
       "    <tr>\n",
       "      <th>180</th>\n",
       "      <td>NON</td>\n",
       "      <td>OUI</td>\n",
       "      <td>OUI</td>\n",
       "      <td>OUI</td>\n",
       "      <td>NON</td>\n",
       "      <td>3</td>\n",
       "    </tr>\n",
       "    <tr>\n",
       "      <th>181</th>\n",
       "      <td>OUI</td>\n",
       "      <td>NON</td>\n",
       "      <td>NON</td>\n",
       "      <td>NON</td>\n",
       "      <td>NON</td>\n",
       "      <td>1</td>\n",
       "    </tr>\n",
       "    <tr>\n",
       "      <th>182</th>\n",
       "      <td>NON</td>\n",
       "      <td>OUI</td>\n",
       "      <td>OUI</td>\n",
       "      <td>OUI</td>\n",
       "      <td>NON</td>\n",
       "      <td>3</td>\n",
       "    </tr>\n",
       "    <tr>\n",
       "      <th>183</th>\n",
       "      <td>OUI</td>\n",
       "      <td>OUI</td>\n",
       "      <td>OUI</td>\n",
       "      <td>OUI</td>\n",
       "      <td>OUI</td>\n",
       "      <td>5</td>\n",
       "    </tr>\n",
       "    <tr>\n",
       "      <th>184</th>\n",
       "      <td>OUI</td>\n",
       "      <td>NON</td>\n",
       "      <td>NON</td>\n",
       "      <td>NON</td>\n",
       "      <td>OUI</td>\n",
       "      <td>2</td>\n",
       "    </tr>\n",
       "  </tbody>\n",
       "</table>\n",
       "<p>185 rows × 6 columns</p>\n",
       "</div>"
      ],
      "text/plain": [
       "    HEREDITE TRANSMISSION PREVENTION DREPANOCYTOSE ELECTROPHORESE  \\\n",
       "0        NON          OUI        OUI           NON            NON   \n",
       "1        NON          OUI        OUI           NON            NON   \n",
       "2        NON          NON        OUI           NON            NON   \n",
       "3        NON          OUI        OUI           NON            NON   \n",
       "4        OUI          NON        OUI           NON            NON   \n",
       "..       ...          ...        ...           ...            ...   \n",
       "180      NON          OUI        OUI           OUI            NON   \n",
       "181      OUI          NON        NON           NON            NON   \n",
       "182      NON          OUI        OUI           OUI            NON   \n",
       "183      OUI          OUI        OUI           OUI            OUI   \n",
       "184      OUI          NON        NON           NON            OUI   \n",
       "\n",
       "     NIVEAU_CONNAISSANCE  \n",
       "0                      2  \n",
       "1                      2  \n",
       "2                      2  \n",
       "3                      2  \n",
       "4                      2  \n",
       "..                   ...  \n",
       "180                    3  \n",
       "181                    1  \n",
       "182                    3  \n",
       "183                    5  \n",
       "184                    2  \n",
       "\n",
       "[185 rows x 6 columns]"
      ]
     },
     "execution_count": 26,
     "metadata": {},
     "output_type": "execute_result"
    }
   ],
   "source": [
    "df=df[['HEREDITE','TRANSMISSION','PREVENTION','DREPANOCYTOSE','ELECTROPHORESE','NIVEAU_CONNAISSANCE']]\n",
    "df"
   ]
  },
  {
   "cell_type": "code",
   "execution_count": 27,
   "metadata": {},
   "outputs": [],
   "source": [
    "trainset, testset = train_test_split(df, test_size=0.2, random_state = 0)"
   ]
  },
  {
   "cell_type": "code",
   "execution_count": 28,
   "metadata": {},
   "outputs": [
    {
     "data": {
      "text/plain": [
       "pandas.core.frame.DataFrame"
      ]
     },
     "execution_count": 28,
     "metadata": {},
     "output_type": "execute_result"
    }
   ],
   "source": [
    "type(trainset)"
   ]
  },
  {
   "cell_type": "code",
   "execution_count": 29,
   "metadata": {},
   "outputs": [
    {
     "data": {
      "text/plain": [
       "1    55\n",
       "2    44\n",
       "3    19\n",
       "4    17\n",
       "5    13\n",
       "Name: NIVEAU_CONNAISSANCE, dtype: int64"
      ]
     },
     "execution_count": 29,
     "metadata": {},
     "output_type": "execute_result"
    }
   ],
   "source": [
    "trainset['NIVEAU_CONNAISSANCE'].value_counts()"
   ]
  },
  {
   "cell_type": "code",
   "execution_count": 30,
   "metadata": {},
   "outputs": [
    {
     "data": {
      "text/plain": [
       "2    15\n",
       "1    13\n",
       "4     5\n",
       "3     4\n",
       "Name: NIVEAU_CONNAISSANCE, dtype: int64"
      ]
     },
     "execution_count": 30,
     "metadata": {},
     "output_type": "execute_result"
    }
   ],
   "source": [
    "testset['NIVEAU_CONNAISSANCE'].value_counts()"
   ]
  },
  {
   "cell_type": "code",
   "execution_count": 31,
   "metadata": {},
   "outputs": [],
   "source": [
    "code = {'OUI':1, 'NON':0}\n",
    "\n",
    "def encodage(df) :\n",
    "    code = {'OUI':1, 'NON':0}\n",
    "    for col in df.select_dtypes('object'):\n",
    "        df.loc[:,col] = df[col].map(code)\n",
    "    return df\n",
    "\n",
    "def imputation(df):\n",
    "    return df.dropna(axis=0)\n",
    "\n",
    "def preprocessing(df):\n",
    "    \n",
    "    df = encodage(df)\n",
    "    df = imputation(df)\n",
    "    \n",
    "    X = df.drop('NIVEAU_CONNAISSANCE', axis=1)\n",
    "    y = df['NIVEAU_CONNAISSANCE']\n",
    "    \n",
    "    print(y.value_counts())\n",
    "    return X,y"
   ]
  },
  {
   "cell_type": "code",
   "execution_count": 32,
   "metadata": {},
   "outputs": [
    {
     "name": "stdout",
     "output_type": "stream",
     "text": [
      "1    55\n",
      "2    44\n",
      "3    19\n",
      "4    17\n",
      "5    13\n",
      "Name: NIVEAU_CONNAISSANCE, dtype: int64\n"
     ]
    }
   ],
   "source": [
    "X_train, y_train = preprocessing(trainset)"
   ]
  },
  {
   "cell_type": "code",
   "execution_count": 33,
   "metadata": {},
   "outputs": [
    {
     "name": "stdout",
     "output_type": "stream",
     "text": [
      "2    15\n",
      "1    13\n",
      "4     5\n",
      "3     4\n",
      "Name: NIVEAU_CONNAISSANCE, dtype: int64\n"
     ]
    }
   ],
   "source": [
    "X_test, y_test = preprocessing(testset)"
   ]
  },
  {
   "cell_type": "code",
   "execution_count": 36,
   "metadata": {},
   "outputs": [
    {
     "name": "stdout",
     "output_type": "stream",
     "text": [
      "1    68\n",
      "2    59\n",
      "3    23\n",
      "4    22\n",
      "5    13\n",
      "Name: NIVEAU_CONNAISSANCE, dtype: int64\n"
     ]
    },
    {
     "data": {
      "text/plain": [
       "pandas.core.frame.DataFrame"
      ]
     },
     "execution_count": 36,
     "metadata": {},
     "output_type": "execute_result"
    }
   ],
   "source": [
    "preprocessing(df)\n",
    "type(df)\n",
    "##"
   ]
  },
  {
   "cell_type": "code",
   "execution_count": 38,
   "metadata": {},
   "outputs": [
    {
     "data": {
      "text/html": [
       "<div>\n",
       "<style scoped>\n",
       "    .dataframe tbody tr th:only-of-type {\n",
       "        vertical-align: middle;\n",
       "    }\n",
       "\n",
       "    .dataframe tbody tr th {\n",
       "        vertical-align: top;\n",
       "    }\n",
       "\n",
       "    .dataframe thead th {\n",
       "        text-align: right;\n",
       "    }\n",
       "</style>\n",
       "<table border=\"1\" class=\"dataframe\">\n",
       "  <thead>\n",
       "    <tr style=\"text-align: right;\">\n",
       "      <th></th>\n",
       "      <th>HEREDITE</th>\n",
       "      <th>TRANSMISSION</th>\n",
       "      <th>PREVENTION</th>\n",
       "      <th>DREPANOCYTOSE</th>\n",
       "      <th>ELECTROPHORESE</th>\n",
       "      <th>NIVEAU_CONNAISSANCE</th>\n",
       "    </tr>\n",
       "  </thead>\n",
       "  <tbody>\n",
       "    <tr>\n",
       "      <th>0</th>\n",
       "      <td>0</td>\n",
       "      <td>1</td>\n",
       "      <td>1</td>\n",
       "      <td>0</td>\n",
       "      <td>0</td>\n",
       "      <td>2</td>\n",
       "    </tr>\n",
       "    <tr>\n",
       "      <th>1</th>\n",
       "      <td>0</td>\n",
       "      <td>1</td>\n",
       "      <td>1</td>\n",
       "      <td>0</td>\n",
       "      <td>0</td>\n",
       "      <td>2</td>\n",
       "    </tr>\n",
       "    <tr>\n",
       "      <th>2</th>\n",
       "      <td>0</td>\n",
       "      <td>0</td>\n",
       "      <td>1</td>\n",
       "      <td>0</td>\n",
       "      <td>0</td>\n",
       "      <td>2</td>\n",
       "    </tr>\n",
       "    <tr>\n",
       "      <th>3</th>\n",
       "      <td>0</td>\n",
       "      <td>1</td>\n",
       "      <td>1</td>\n",
       "      <td>0</td>\n",
       "      <td>0</td>\n",
       "      <td>2</td>\n",
       "    </tr>\n",
       "    <tr>\n",
       "      <th>4</th>\n",
       "      <td>1</td>\n",
       "      <td>0</td>\n",
       "      <td>1</td>\n",
       "      <td>0</td>\n",
       "      <td>0</td>\n",
       "      <td>2</td>\n",
       "    </tr>\n",
       "    <tr>\n",
       "      <th>...</th>\n",
       "      <td>...</td>\n",
       "      <td>...</td>\n",
       "      <td>...</td>\n",
       "      <td>...</td>\n",
       "      <td>...</td>\n",
       "      <td>...</td>\n",
       "    </tr>\n",
       "    <tr>\n",
       "      <th>180</th>\n",
       "      <td>0</td>\n",
       "      <td>1</td>\n",
       "      <td>1</td>\n",
       "      <td>1</td>\n",
       "      <td>0</td>\n",
       "      <td>3</td>\n",
       "    </tr>\n",
       "    <tr>\n",
       "      <th>181</th>\n",
       "      <td>1</td>\n",
       "      <td>0</td>\n",
       "      <td>0</td>\n",
       "      <td>0</td>\n",
       "      <td>0</td>\n",
       "      <td>1</td>\n",
       "    </tr>\n",
       "    <tr>\n",
       "      <th>182</th>\n",
       "      <td>0</td>\n",
       "      <td>1</td>\n",
       "      <td>1</td>\n",
       "      <td>1</td>\n",
       "      <td>0</td>\n",
       "      <td>3</td>\n",
       "    </tr>\n",
       "    <tr>\n",
       "      <th>183</th>\n",
       "      <td>1</td>\n",
       "      <td>1</td>\n",
       "      <td>1</td>\n",
       "      <td>1</td>\n",
       "      <td>1</td>\n",
       "      <td>5</td>\n",
       "    </tr>\n",
       "    <tr>\n",
       "      <th>184</th>\n",
       "      <td>1</td>\n",
       "      <td>0</td>\n",
       "      <td>0</td>\n",
       "      <td>0</td>\n",
       "      <td>1</td>\n",
       "      <td>2</td>\n",
       "    </tr>\n",
       "  </tbody>\n",
       "</table>\n",
       "<p>185 rows × 6 columns</p>\n",
       "</div>"
      ],
      "text/plain": [
       "     HEREDITE  TRANSMISSION  PREVENTION  DREPANOCYTOSE  ELECTROPHORESE  \\\n",
       "0           0             1           1              0               0   \n",
       "1           0             1           1              0               0   \n",
       "2           0             0           1              0               0   \n",
       "3           0             1           1              0               0   \n",
       "4           1             0           1              0               0   \n",
       "..        ...           ...         ...            ...             ...   \n",
       "180         0             1           1              1               0   \n",
       "181         1             0           0              0               0   \n",
       "182         0             1           1              1               0   \n",
       "183         1             1           1              1               1   \n",
       "184         1             0           0              0               1   \n",
       "\n",
       "     NIVEAU_CONNAISSANCE  \n",
       "0                      2  \n",
       "1                      2  \n",
       "2                      2  \n",
       "3                      2  \n",
       "4                      2  \n",
       "..                   ...  \n",
       "180                    3  \n",
       "181                    1  \n",
       "182                    3  \n",
       "183                    5  \n",
       "184                    2  \n",
       "\n",
       "[185 rows x 6 columns]"
      ]
     },
     "execution_count": 38,
     "metadata": {},
     "output_type": "execute_result"
    }
   ],
   "source": [
    "df"
   ]
  },
  {
   "cell_type": "code",
   "execution_count": 58,
   "metadata": {},
   "outputs": [
    {
     "name": "stdout",
     "output_type": "stream",
     "text": [
      "Series([], Name: NIVEAU_CONNAISSANCE, dtype: int64)\n"
     ]
    },
    {
     "data": {
      "text/plain": [
       "(Empty DataFrame\n",
       " Columns: [SEXE, NIVEAUDETUDE, FACULTE, ETATCIVIL, HEREDITE, TRANSMISSION, PREVENTION, DREPANOCYTOSE, ROLES, ELECTROPHORESE, REACTION, MOMENTIDEAL]\n",
       " Index: [],\n",
       " Series([], Name: NIVEAU_CONNAISSANCE, dtype: int64))"
      ]
     },
     "execution_count": 58,
     "metadata": {},
     "output_type": "execute_result"
    }
   ],
   "source": [
    "preprocessing(df)"
   ]
  },
  {
   "cell_type": "code",
   "execution_count": 39,
   "metadata": {},
   "outputs": [
    {
     "data": {
      "text/html": [
       "<div>\n",
       "<style scoped>\n",
       "    .dataframe tbody tr th:only-of-type {\n",
       "        vertical-align: middle;\n",
       "    }\n",
       "\n",
       "    .dataframe tbody tr th {\n",
       "        vertical-align: top;\n",
       "    }\n",
       "\n",
       "    .dataframe thead th {\n",
       "        text-align: right;\n",
       "    }\n",
       "</style>\n",
       "<table border=\"1\" class=\"dataframe\">\n",
       "  <thead>\n",
       "    <tr style=\"text-align: right;\">\n",
       "      <th></th>\n",
       "      <th>HEREDITE</th>\n",
       "      <th>TRANSMISSION</th>\n",
       "      <th>PREVENTION</th>\n",
       "      <th>DREPANOCYTOSE</th>\n",
       "      <th>ELECTROPHORESE</th>\n",
       "      <th>NIVEAU_CONNAISSANCE</th>\n",
       "    </tr>\n",
       "  </thead>\n",
       "  <tbody>\n",
       "    <tr>\n",
       "      <th>0</th>\n",
       "      <td>0</td>\n",
       "      <td>1</td>\n",
       "      <td>1</td>\n",
       "      <td>0</td>\n",
       "      <td>0</td>\n",
       "      <td>2</td>\n",
       "    </tr>\n",
       "    <tr>\n",
       "      <th>1</th>\n",
       "      <td>0</td>\n",
       "      <td>1</td>\n",
       "      <td>1</td>\n",
       "      <td>0</td>\n",
       "      <td>0</td>\n",
       "      <td>2</td>\n",
       "    </tr>\n",
       "    <tr>\n",
       "      <th>2</th>\n",
       "      <td>0</td>\n",
       "      <td>0</td>\n",
       "      <td>1</td>\n",
       "      <td>0</td>\n",
       "      <td>0</td>\n",
       "      <td>2</td>\n",
       "    </tr>\n",
       "    <tr>\n",
       "      <th>3</th>\n",
       "      <td>0</td>\n",
       "      <td>1</td>\n",
       "      <td>1</td>\n",
       "      <td>0</td>\n",
       "      <td>0</td>\n",
       "      <td>2</td>\n",
       "    </tr>\n",
       "    <tr>\n",
       "      <th>4</th>\n",
       "      <td>1</td>\n",
       "      <td>0</td>\n",
       "      <td>1</td>\n",
       "      <td>0</td>\n",
       "      <td>0</td>\n",
       "      <td>2</td>\n",
       "    </tr>\n",
       "    <tr>\n",
       "      <th>...</th>\n",
       "      <td>...</td>\n",
       "      <td>...</td>\n",
       "      <td>...</td>\n",
       "      <td>...</td>\n",
       "      <td>...</td>\n",
       "      <td>...</td>\n",
       "    </tr>\n",
       "    <tr>\n",
       "      <th>180</th>\n",
       "      <td>0</td>\n",
       "      <td>1</td>\n",
       "      <td>1</td>\n",
       "      <td>1</td>\n",
       "      <td>0</td>\n",
       "      <td>3</td>\n",
       "    </tr>\n",
       "    <tr>\n",
       "      <th>181</th>\n",
       "      <td>1</td>\n",
       "      <td>0</td>\n",
       "      <td>0</td>\n",
       "      <td>0</td>\n",
       "      <td>0</td>\n",
       "      <td>1</td>\n",
       "    </tr>\n",
       "    <tr>\n",
       "      <th>182</th>\n",
       "      <td>0</td>\n",
       "      <td>1</td>\n",
       "      <td>1</td>\n",
       "      <td>1</td>\n",
       "      <td>0</td>\n",
       "      <td>3</td>\n",
       "    </tr>\n",
       "    <tr>\n",
       "      <th>183</th>\n",
       "      <td>1</td>\n",
       "      <td>1</td>\n",
       "      <td>1</td>\n",
       "      <td>1</td>\n",
       "      <td>1</td>\n",
       "      <td>5</td>\n",
       "    </tr>\n",
       "    <tr>\n",
       "      <th>184</th>\n",
       "      <td>1</td>\n",
       "      <td>0</td>\n",
       "      <td>0</td>\n",
       "      <td>0</td>\n",
       "      <td>1</td>\n",
       "      <td>2</td>\n",
       "    </tr>\n",
       "  </tbody>\n",
       "</table>\n",
       "<p>185 rows × 6 columns</p>\n",
       "</div>"
      ],
      "text/plain": [
       "     HEREDITE  TRANSMISSION  PREVENTION  DREPANOCYTOSE  ELECTROPHORESE  \\\n",
       "0           0             1           1              0               0   \n",
       "1           0             1           1              0               0   \n",
       "2           0             0           1              0               0   \n",
       "3           0             1           1              0               0   \n",
       "4           1             0           1              0               0   \n",
       "..        ...           ...         ...            ...             ...   \n",
       "180         0             1           1              1               0   \n",
       "181         1             0           0              0               0   \n",
       "182         0             1           1              1               0   \n",
       "183         1             1           1              1               1   \n",
       "184         1             0           0              0               1   \n",
       "\n",
       "     NIVEAU_CONNAISSANCE  \n",
       "0                      2  \n",
       "1                      2  \n",
       "2                      2  \n",
       "3                      2  \n",
       "4                      2  \n",
       "..                   ...  \n",
       "180                    3  \n",
       "181                    1  \n",
       "182                    3  \n",
       "183                    5  \n",
       "184                    2  \n",
       "\n",
       "[185 rows x 6 columns]"
      ]
     },
     "execution_count": 39,
     "metadata": {},
     "output_type": "execute_result"
    }
   ],
   "source": [
    "df"
   ]
  },
  {
   "cell_type": "code",
   "execution_count": 40,
   "metadata": {},
   "outputs": [
    {
     "name": "stdout",
     "output_type": "stream",
     "text": [
      "Train score : 0.9662162162162162\n",
      "Test score : 0.8108108108108109\n"
     ]
    },
    {
     "data": {
      "text/plain": [
       "array([[11,  2,  0,  0],\n",
       "       [ 5, 10,  0,  0],\n",
       "       [ 0,  0,  4,  0],\n",
       "       [ 0,  0,  0,  5]])"
      ]
     },
     "execution_count": 40,
     "metadata": {},
     "output_type": "execute_result"
    }
   ],
   "source": [
    "model = RandomForestClassifier(n_estimators=100)\n",
    "\n",
    "model.fit(X_train, y_train)\n",
    "print('Train score :', model.score(X_train, y_train))\n",
    "print('Test score :', model.score(X_test, y_test))\n",
    "model.predict(X_test)\n",
    "confusion_matrix(y_test, model.predict(X_test))"
   ]
  },
  {
   "cell_type": "code",
   "execution_count": 53,
   "metadata": {},
   "outputs": [
    {
     "data": {
      "text/html": [
       "<div>\n",
       "<style scoped>\n",
       "    .dataframe tbody tr th:only-of-type {\n",
       "        vertical-align: middle;\n",
       "    }\n",
       "\n",
       "    .dataframe tbody tr th {\n",
       "        vertical-align: top;\n",
       "    }\n",
       "\n",
       "    .dataframe thead th {\n",
       "        text-align: right;\n",
       "    }\n",
       "</style>\n",
       "<table border=\"1\" class=\"dataframe\">\n",
       "  <thead>\n",
       "    <tr style=\"text-align: right;\">\n",
       "      <th></th>\n",
       "      <th>HEREDITE</th>\n",
       "      <th>TRANSMISSION</th>\n",
       "      <th>PREVENTION</th>\n",
       "      <th>DREPANOCYTOSE</th>\n",
       "      <th>ELECTROPHORESE</th>\n",
       "      <th>NIVEAU_CONNAISSANCE</th>\n",
       "    </tr>\n",
       "  </thead>\n",
       "  <tbody>\n",
       "    <tr>\n",
       "      <th>0</th>\n",
       "      <td>0.0</td>\n",
       "      <td>1</td>\n",
       "      <td>1</td>\n",
       "      <td>0</td>\n",
       "      <td>0</td>\n",
       "      <td>2</td>\n",
       "    </tr>\n",
       "    <tr>\n",
       "      <th>1</th>\n",
       "      <td>0.0</td>\n",
       "      <td>1</td>\n",
       "      <td>1</td>\n",
       "      <td>0</td>\n",
       "      <td>0</td>\n",
       "      <td>2</td>\n",
       "    </tr>\n",
       "    <tr>\n",
       "      <th>2</th>\n",
       "      <td>0.0</td>\n",
       "      <td>0</td>\n",
       "      <td>1</td>\n",
       "      <td>0</td>\n",
       "      <td>0</td>\n",
       "      <td>2</td>\n",
       "    </tr>\n",
       "    <tr>\n",
       "      <th>3</th>\n",
       "      <td>0.0</td>\n",
       "      <td>1</td>\n",
       "      <td>1</td>\n",
       "      <td>0</td>\n",
       "      <td>0</td>\n",
       "      <td>2</td>\n",
       "    </tr>\n",
       "    <tr>\n",
       "      <th>4</th>\n",
       "      <td>1.0</td>\n",
       "      <td>0</td>\n",
       "      <td>1</td>\n",
       "      <td>0</td>\n",
       "      <td>0</td>\n",
       "      <td>2</td>\n",
       "    </tr>\n",
       "    <tr>\n",
       "      <th>...</th>\n",
       "      <td>...</td>\n",
       "      <td>...</td>\n",
       "      <td>...</td>\n",
       "      <td>...</td>\n",
       "      <td>...</td>\n",
       "      <td>...</td>\n",
       "    </tr>\n",
       "    <tr>\n",
       "      <th>180</th>\n",
       "      <td>0.0</td>\n",
       "      <td>1</td>\n",
       "      <td>1</td>\n",
       "      <td>1</td>\n",
       "      <td>0</td>\n",
       "      <td>3</td>\n",
       "    </tr>\n",
       "    <tr>\n",
       "      <th>181</th>\n",
       "      <td>1.0</td>\n",
       "      <td>0</td>\n",
       "      <td>0</td>\n",
       "      <td>0</td>\n",
       "      <td>0</td>\n",
       "      <td>1</td>\n",
       "    </tr>\n",
       "    <tr>\n",
       "      <th>182</th>\n",
       "      <td>0.0</td>\n",
       "      <td>1</td>\n",
       "      <td>1</td>\n",
       "      <td>1</td>\n",
       "      <td>0</td>\n",
       "      <td>3</td>\n",
       "    </tr>\n",
       "    <tr>\n",
       "      <th>183</th>\n",
       "      <td>1.0</td>\n",
       "      <td>1</td>\n",
       "      <td>1</td>\n",
       "      <td>1</td>\n",
       "      <td>1</td>\n",
       "      <td>5</td>\n",
       "    </tr>\n",
       "    <tr>\n",
       "      <th>184</th>\n",
       "      <td>1.0</td>\n",
       "      <td>0</td>\n",
       "      <td>0</td>\n",
       "      <td>0</td>\n",
       "      <td>1</td>\n",
       "      <td>2</td>\n",
       "    </tr>\n",
       "  </tbody>\n",
       "</table>\n",
       "<p>185 rows × 6 columns</p>\n",
       "</div>"
      ],
      "text/plain": [
       "     HEREDITE  TRANSMISSION  PREVENTION  DREPANOCYTOSE  ELECTROPHORESE  \\\n",
       "0         0.0             1           1              0               0   \n",
       "1         0.0             1           1              0               0   \n",
       "2         0.0             0           1              0               0   \n",
       "3         0.0             1           1              0               0   \n",
       "4         1.0             0           1              0               0   \n",
       "..        ...           ...         ...            ...             ...   \n",
       "180       0.0             1           1              1               0   \n",
       "181       1.0             0           0              0               0   \n",
       "182       0.0             1           1              1               0   \n",
       "183       1.0             1           1              1               1   \n",
       "184       1.0             0           0              0               1   \n",
       "\n",
       "     NIVEAU_CONNAISSANCE  \n",
       "0                      2  \n",
       "1                      2  \n",
       "2                      2  \n",
       "3                      2  \n",
       "4                      2  \n",
       "..                   ...  \n",
       "180                    3  \n",
       "181                    1  \n",
       "182                    3  \n",
       "183                    5  \n",
       "184                    2  \n",
       "\n",
       "[185 rows x 6 columns]"
      ]
     },
     "execution_count": 53,
     "metadata": {},
     "output_type": "execute_result"
    }
   ],
   "source": [
    "df"
   ]
  },
  {
   "cell_type": "code",
   "execution_count": 41,
   "metadata": {},
   "outputs": [],
   "source": [
    "def connaissance(model, HEREDITE, TRANSMISSION, \n",
    "             PREVENTION, DREPANOCYTOSE, ELECTROPHORES) :\n",
    "    x= np.array([HEREDITE, TRANSMISSION, PREVENTION,\n",
    "                 DREPANOCYTOSE,ELECTROPHORES]).reshape(1,5)\n",
    "    print(model.predict(x))\n",
    "    if model.predict(x)==[5] :\n",
    "        print('Excellent')\n",
    "    elif model.predict(x)==[4] :\n",
    "        print('Bien')\n",
    "    elif model.predict(x)==[3] :\n",
    "        print('AssezBien')\n",
    "    elif model.predict(x)==[2] :\n",
    "        print('Faible')\n",
    "    else :\n",
    "        print('Mediocre')"
   ]
  },
  {
   "cell_type": "code",
   "execution_count": 45,
   "metadata": {},
   "outputs": [],
   "source": [
    "#connaissance(model,0,1,0,1,0)\n",
    "##"
   ]
  },
  {
   "cell_type": "code",
   "execution_count": null,
   "metadata": {},
   "outputs": [],
   "source": []
  }
 ],
 "metadata": {
  "kernelspec": {
   "display_name": "Python 3 (ipykernel)",
   "language": "python",
   "name": "python3"
  },
  "language_info": {
   "codemirror_mode": {
    "name": "ipython",
    "version": 3
   },
   "file_extension": ".py",
   "mimetype": "text/x-python",
   "name": "python",
   "nbconvert_exporter": "python",
   "pygments_lexer": "ipython3",
   "version": "3.8.10"
  }
 },
 "nbformat": 4,
 "nbformat_minor": 4
}
